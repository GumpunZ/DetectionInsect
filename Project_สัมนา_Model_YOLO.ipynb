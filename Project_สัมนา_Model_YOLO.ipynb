{
  "cells": [
    {
      "cell_type": "markdown",
      "metadata": {
        "id": "CAUOZ5DroExk"
      },
      "source": [
        "# LOAD TRAIN AND TEST DATA"
      ]
    },
    {
      "cell_type": "code",
      "execution_count": 3,
      "metadata": {
        "colab": {
          "base_uri": "https://localhost:8080/"
        },
        "id": "w-Zngalelwho",
        "outputId": "f45bd850-6453-4414-e1cf-e046fb8dc89e"
      },
      "outputs": [
        {
          "name": "stderr",
          "output_type": "stream",
          "text": [
            "'gdown' is not recognized as an internal or external command,\n",
            "operable program or batch file.\n"
          ]
        }
      ],
      "source": [
        "!gdown 1D_BXNyR2cCgF07V6scHrFlbxIO_CfzpA"
      ]
    },
    {
      "cell_type": "code",
      "execution_count": 4,
      "metadata": {
        "colab": {
          "base_uri": "https://localhost:8080/"
        },
        "id": "K9UEw2Gh0Tm5",
        "outputId": "e532e5d5-a085-4786-caba-413695995a35"
      },
      "outputs": [
        {
          "name": "stderr",
          "output_type": "stream",
          "text": [
            "'unzip' is not recognized as an internal or external command,\n",
            "operable program or batch file.\n"
          ]
        }
      ],
      "source": [
        "!unzip /content/Insect.zip"
      ]
    },
    {
      "cell_type": "markdown",
      "metadata": {
        "id": "7zGSlYygn7lU"
      },
      "source": [
        "# YOLO V5"
      ]
    },
    {
      "cell_type": "code",
      "execution_count": 5,
      "metadata": {
        "colab": {
          "base_uri": "https://localhost:8080/"
        },
        "id": "OHVlVkjM0e8R",
        "outputId": "cab01b4a-6474-488e-e3ee-8d9c8f1c25a8"
      },
      "outputs": [
        {
          "name": "stderr",
          "output_type": "stream",
          "text": [
            "'git' is not recognized as an internal or external command,\n",
            "operable program or batch file.\n",
            "The system cannot find the path specified.\n",
            "ERROR: Invalid requirement: '#'\n",
            "\n",
            "[notice] A new release of pip is available: 24.0 -> 24.2\n",
            "[notice] To update, run: C:\\Users\\Gumpun\\miniconda3\\python.exe -m pip install --upgrade pip\n"
          ]
        }
      ],
      "source": [
        "## Clone repository\n",
        "!git clone https://github.com/ultralytics/yolov5\n",
        "## Change directory to yolov5\n",
        "!cd yolov5\n",
        "## install required library\n",
        "!pip install -r /content/yolov5/requirements.txt  # install"
      ]
    },
    {
      "cell_type": "code",
      "execution_count": 6,
      "metadata": {
        "colab": {
          "base_uri": "https://localhost:8080/"
        },
        "id": "jsQXvSAf09xg",
        "outputId": "d7f99f24-6952-499d-af4f-ade0e7d3d975"
      },
      "outputs": [
        {
          "name": "stderr",
          "output_type": "stream",
          "text": [
            "python: can't open file 'c:\\\\content\\\\yolov5\\\\train.py': [Errno 2] No such file or directory\n"
          ]
        }
      ],
      "source": [
        "!python /content/yolov5/train.py --img 640 --batch 16 --epochs 100 --data /content/Insect/data.yaml --weights yolov5s.pt"
      ]
    },
    {
      "cell_type": "code",
      "execution_count": 7,
      "metadata": {
        "colab": {
          "base_uri": "https://localhost:8080/"
        },
        "id": "kCe1HaPznRHV",
        "outputId": "8e3884dd-36dc-4cd9-d675-2bbab49ff7ae"
      },
      "outputs": [
        {
          "name": "stderr",
          "output_type": "stream",
          "text": [
            "python: can't open file 'c:\\\\content\\\\yolov5\\\\detect.py': [Errno 2] No such file or directory\n"
          ]
        }
      ],
      "source": [
        "!python /content/yolov5/detect.py --weights yolov5s.pt --weights /content/yolov5/runs/train/exp/weights/best.pt --source /content/TestVideo"
      ]
    },
    {
      "cell_type": "markdown",
      "metadata": {
        "id": "kx--9Sv6oADj"
      },
      "source": [
        "# YOLO v8"
      ]
    },
    {
      "cell_type": "code",
      "execution_count": 1,
      "metadata": {
        "colab": {
          "base_uri": "https://localhost:8080/"
        },
        "id": "iAby1qOMZMt6",
        "outputId": "df4120c4-db57-4683-bbba-4b6a4d6e534b"
      },
      "outputs": [
        {
          "name": "stdout",
          "output_type": "stream",
          "text": [
            "Requirement already satisfied: ultralytics in c:\\users\\gumpun\\miniconda3\\lib\\site-packages (8.2.87)\n",
            "Requirement already satisfied: numpy<2.0.0,>=1.23.0 in c:\\users\\gumpun\\miniconda3\\lib\\site-packages (from ultralytics) (1.26.4)\n",
            "Requirement already satisfied: matplotlib>=3.3.0 in c:\\users\\gumpun\\miniconda3\\lib\\site-packages (from ultralytics) (3.8.3)\n",
            "Requirement already satisfied: opencv-python>=4.6.0 in c:\\users\\gumpun\\miniconda3\\lib\\site-packages (from ultralytics) (4.10.0.84)\n",
            "Requirement already satisfied: pillow>=7.1.2 in c:\\users\\gumpun\\miniconda3\\lib\\site-packages (from ultralytics) (10.2.0)\n",
            "Requirement already satisfied: pyyaml>=5.3.1 in c:\\users\\gumpun\\miniconda3\\lib\\site-packages (from ultralytics) (6.0.2)\n",
            "Requirement already satisfied: requests>=2.23.0 in c:\\users\\gumpun\\miniconda3\\lib\\site-packages (from ultralytics) (2.31.0)\n",
            "Requirement already satisfied: scipy>=1.4.1 in c:\\users\\gumpun\\miniconda3\\lib\\site-packages (from ultralytics) (1.14.1)\n",
            "Requirement already satisfied: torch>=1.8.0 in c:\\users\\gumpun\\miniconda3\\lib\\site-packages (from ultralytics) (2.3.1)\n",
            "Requirement already satisfied: torchvision>=0.9.0 in c:\\users\\gumpun\\miniconda3\\lib\\site-packages (from ultralytics) (0.18.1)\n",
            "Requirement already satisfied: tqdm>=4.64.0 in c:\\users\\gumpun\\miniconda3\\lib\\site-packages (from ultralytics) (4.65.0)\n",
            "Requirement already satisfied: psutil in c:\\users\\gumpun\\miniconda3\\lib\\site-packages (from ultralytics) (6.0.0)\n",
            "Requirement already satisfied: py-cpuinfo in c:\\users\\gumpun\\miniconda3\\lib\\site-packages (from ultralytics) (9.0.0)\n",
            "Requirement already satisfied: pandas>=1.1.4 in c:\\users\\gumpun\\miniconda3\\lib\\site-packages (from ultralytics) (2.2.2)\n",
            "Requirement already satisfied: seaborn>=0.11.0 in c:\\users\\gumpun\\miniconda3\\lib\\site-packages (from ultralytics) (0.13.2)\n",
            "Requirement already satisfied: ultralytics-thop>=2.0.0 in c:\\users\\gumpun\\miniconda3\\lib\\site-packages (from ultralytics) (2.0.6)\n",
            "Requirement already satisfied: contourpy>=1.0.1 in c:\\users\\gumpun\\miniconda3\\lib\\site-packages (from matplotlib>=3.3.0->ultralytics) (1.2.0)\n",
            "Requirement already satisfied: cycler>=0.10 in c:\\users\\gumpun\\miniconda3\\lib\\site-packages (from matplotlib>=3.3.0->ultralytics) (0.12.1)\n",
            "Requirement already satisfied: fonttools>=4.22.0 in c:\\users\\gumpun\\miniconda3\\lib\\site-packages (from matplotlib>=3.3.0->ultralytics) (4.49.0)\n",
            "Requirement already satisfied: kiwisolver>=1.3.1 in c:\\users\\gumpun\\miniconda3\\lib\\site-packages (from matplotlib>=3.3.0->ultralytics) (1.4.5)\n",
            "Requirement already satisfied: packaging>=20.0 in c:\\users\\gumpun\\miniconda3\\lib\\site-packages (from matplotlib>=3.3.0->ultralytics) (23.1)\n",
            "Requirement already satisfied: pyparsing>=2.3.1 in c:\\users\\gumpun\\miniconda3\\lib\\site-packages (from matplotlib>=3.3.0->ultralytics) (3.1.1)\n",
            "Requirement already satisfied: python-dateutil>=2.7 in c:\\users\\gumpun\\miniconda3\\lib\\site-packages (from matplotlib>=3.3.0->ultralytics) (2.9.0)\n",
            "Requirement already satisfied: pytz>=2020.1 in c:\\users\\gumpun\\miniconda3\\lib\\site-packages (from pandas>=1.1.4->ultralytics) (2024.1)\n",
            "Requirement already satisfied: tzdata>=2022.7 in c:\\users\\gumpun\\miniconda3\\lib\\site-packages (from pandas>=1.1.4->ultralytics) (2024.1)\n",
            "Requirement already satisfied: charset-normalizer<4,>=2 in c:\\users\\gumpun\\miniconda3\\lib\\site-packages (from requests>=2.23.0->ultralytics) (2.0.4)\n",
            "Requirement already satisfied: idna<4,>=2.5 in c:\\users\\gumpun\\miniconda3\\lib\\site-packages (from requests>=2.23.0->ultralytics) (3.4)\n",
            "Requirement already satisfied: urllib3<3,>=1.21.1 in c:\\users\\gumpun\\miniconda3\\lib\\site-packages (from requests>=2.23.0->ultralytics) (2.1.0)\n",
            "Requirement already satisfied: certifi>=2017.4.17 in c:\\users\\gumpun\\miniconda3\\lib\\site-packages (from requests>=2.23.0->ultralytics) (2024.8.30)\n",
            "Requirement already satisfied: filelock in c:\\users\\gumpun\\miniconda3\\lib\\site-packages (from torch>=1.8.0->ultralytics) (3.15.4)\n",
            "Requirement already satisfied: typing-extensions>=4.8.0 in c:\\users\\gumpun\\miniconda3\\lib\\site-packages (from torch>=1.8.0->ultralytics) (4.10.0)\n",
            "Requirement already satisfied: sympy in c:\\users\\gumpun\\miniconda3\\lib\\site-packages (from torch>=1.8.0->ultralytics) (1.12)\n",
            "Requirement already satisfied: networkx in c:\\users\\gumpun\\miniconda3\\lib\\site-packages (from torch>=1.8.0->ultralytics) (3.3)\n",
            "Requirement already satisfied: jinja2 in c:\\users\\gumpun\\miniconda3\\lib\\site-packages (from torch>=1.8.0->ultralytics) (3.1.4)\n",
            "Requirement already satisfied: fsspec in c:\\users\\gumpun\\miniconda3\\lib\\site-packages (from torch>=1.8.0->ultralytics) (2024.9.0)\n",
            "Requirement already satisfied: mkl<=2021.4.0,>=2021.1.1 in c:\\users\\gumpun\\miniconda3\\lib\\site-packages (from torch>=1.8.0->ultralytics) (2021.4.0)\n",
            "Requirement already satisfied: colorama in c:\\users\\gumpun\\miniconda3\\lib\\site-packages (from tqdm>=4.64.0->ultralytics) (0.4.6)\n",
            "Requirement already satisfied: intel-openmp==2021.* in c:\\users\\gumpun\\miniconda3\\lib\\site-packages (from mkl<=2021.4.0,>=2021.1.1->torch>=1.8.0->ultralytics) (2021.4.0)\n",
            "Requirement already satisfied: tbb==2021.* in c:\\users\\gumpun\\miniconda3\\lib\\site-packages (from mkl<=2021.4.0,>=2021.1.1->torch>=1.8.0->ultralytics) (2021.13.1)\n",
            "Requirement already satisfied: six>=1.5 in c:\\users\\gumpun\\miniconda3\\lib\\site-packages (from python-dateutil>=2.7->matplotlib>=3.3.0->ultralytics) (1.16.0)\n",
            "Requirement already satisfied: MarkupSafe>=2.0 in c:\\users\\gumpun\\miniconda3\\lib\\site-packages (from jinja2->torch>=1.8.0->ultralytics) (2.1.5)\n",
            "Requirement already satisfied: mpmath>=0.19 in c:\\users\\gumpun\\miniconda3\\lib\\site-packages (from sympy->torch>=1.8.0->ultralytics) (1.3.0)\n"
          ]
        }
      ],
      "source": [
        "!pip install ultralytics"
      ]
    },
    {
      "cell_type": "code",
      "execution_count": 1,
      "metadata": {},
      "outputs": [
        {
          "name": "stdout",
          "output_type": "stream",
          "text": [
            "True\n"
          ]
        }
      ],
      "source": [
        "import torch\n",
        "print(torch.cuda.is_available())"
      ]
    },
    {
      "cell_type": "code",
      "execution_count": 2,
      "metadata": {
        "colab": {
          "base_uri": "https://localhost:8080/"
        },
        "id": "GtPejEgmY8KL",
        "outputId": "29021c08-45dc-4ab8-c17e-1a7e151d072b"
      },
      "outputs": [
        {
          "name": "stdout",
          "output_type": "stream",
          "text": [
            "WARNING  Known issue with torch>=2.4.0 on Windows with CPU, recommend downgrading to torch<=2.3.1 to resolve https://github.com/ultralytics/ultralytics/issues/15049\n",
            "Ultralytics YOLOv8.2.87  Python-3.12.2 torch-2.4.1+cu124 CUDA:0 (NVIDIA GeForce RTX 3080 Ti, 12288MiB)\n",
            "\u001b[34m\u001b[1mengine\\trainer: \u001b[0mtask=detect, mode=train, model=yolov8n.pt, data=C:/Users/Gumpun/Desktop/Project/DetectionInsect/ThaiInsectv8/data.yaml, epochs=100, time=None, patience=100, batch=16, imgsz=640, save=True, save_period=-1, cache=False, device=None, workers=8, project=None, name=train4, exist_ok=False, pretrained=True, optimizer=auto, verbose=True, seed=0, deterministic=True, single_cls=False, rect=False, cos_lr=False, close_mosaic=10, resume=False, amp=True, fraction=1.0, profile=False, freeze=None, multi_scale=False, overlap_mask=True, mask_ratio=4, dropout=0.0, val=True, split=val, save_json=False, save_hybrid=False, conf=None, iou=0.7, max_det=300, half=False, dnn=False, plots=True, source=None, vid_stride=1, stream_buffer=False, visualize=False, augment=False, agnostic_nms=False, classes=None, retina_masks=False, embed=None, show=False, save_frames=False, save_txt=False, save_conf=False, save_crop=False, show_labels=True, show_conf=True, show_boxes=True, line_width=None, format=torchscript, keras=False, optimize=False, int8=False, dynamic=False, simplify=False, opset=None, workspace=4, nms=False, lr0=0.01, lrf=0.01, momentum=0.937, weight_decay=0.0005, warmup_epochs=3.0, warmup_momentum=0.8, warmup_bias_lr=0.1, box=7.5, cls=0.5, dfl=1.5, pose=12.0, kobj=1.0, label_smoothing=0.0, nbs=64, hsv_h=0.015, hsv_s=0.7, hsv_v=0.4, degrees=0.0, translate=0.1, scale=0.5, shear=0.0, perspective=0.0, flipud=0.0, fliplr=0.5, bgr=0.0, mosaic=1.0, mixup=0.0, copy_paste=0.0, auto_augment=randaugment, erasing=0.4, crop_fraction=1.0, cfg=None, tracker=botsort.yaml, save_dir=runs\\detect\\train4\n",
            "Overriding model.yaml nc=80 with nc=36\n",
            "\n",
            "                   from  n    params  module                                       arguments                     \n",
            "  0                  -1  1       464  ultralytics.nn.modules.conv.Conv             [3, 16, 3, 2]                 \n",
            "  1                  -1  1      4672  ultralytics.nn.modules.conv.Conv             [16, 32, 3, 2]                \n",
            "  2                  -1  1      7360  ultralytics.nn.modules.block.C2f             [32, 32, 1, True]             \n",
            "  3                  -1  1     18560  ultralytics.nn.modules.conv.Conv             [32, 64, 3, 2]                \n",
            "  4                  -1  2     49664  ultralytics.nn.modules.block.C2f             [64, 64, 2, True]             \n",
            "  5                  -1  1     73984  ultralytics.nn.modules.conv.Conv             [64, 128, 3, 2]               \n",
            "  6                  -1  2    197632  ultralytics.nn.modules.block.C2f             [128, 128, 2, True]           \n",
            "  7                  -1  1    295424  ultralytics.nn.modules.conv.Conv             [128, 256, 3, 2]              \n",
            "  8                  -1  1    460288  ultralytics.nn.modules.block.C2f             [256, 256, 1, True]           \n",
            "  9                  -1  1    164608  ultralytics.nn.modules.block.SPPF            [256, 256, 5]                 \n",
            " 10                  -1  1         0  torch.nn.modules.upsampling.Upsample         [None, 2, 'nearest']          \n",
            " 11             [-1, 6]  1         0  ultralytics.nn.modules.conv.Concat           [1]                           \n",
            " 12                  -1  1    148224  ultralytics.nn.modules.block.C2f             [384, 128, 1]                 \n",
            " 13                  -1  1         0  torch.nn.modules.upsampling.Upsample         [None, 2, 'nearest']          \n",
            " 14             [-1, 4]  1         0  ultralytics.nn.modules.conv.Concat           [1]                           \n",
            " 15                  -1  1     37248  ultralytics.nn.modules.block.C2f             [192, 64, 1]                  \n",
            " 16                  -1  1     36992  ultralytics.nn.modules.conv.Conv             [64, 64, 3, 2]                \n",
            " 17            [-1, 12]  1         0  ultralytics.nn.modules.conv.Concat           [1]                           \n",
            " 18                  -1  1    123648  ultralytics.nn.modules.block.C2f             [192, 128, 1]                 \n",
            " 19                  -1  1    147712  ultralytics.nn.modules.conv.Conv             [128, 128, 3, 2]              \n",
            " 20             [-1, 9]  1         0  ultralytics.nn.modules.conv.Concat           [1]                           \n",
            " 21                  -1  1    493056  ultralytics.nn.modules.block.C2f             [384, 256, 1]                 \n",
            " 22        [15, 18, 21]  1    758332  ultralytics.nn.modules.head.Detect           [36, [64, 128, 256]]          \n",
            "Model summary: 225 layers, 3,017,868 parameters, 3,017,852 gradients, 8.2 GFLOPs\n",
            "\n",
            "Transferred 319/355 items from pretrained weights\n",
            "Freezing layer 'model.22.dfl.conv.weight'\n",
            "\u001b[34m\u001b[1mAMP: \u001b[0mrunning Automatic Mixed Precision (AMP) checks with YOLOv8n...\n",
            "\u001b[34m\u001b[1mAMP: \u001b[0mchecks passed \n"
          ]
        },
        {
          "name": "stderr",
          "output_type": "stream",
          "text": [
            "\u001b[34m\u001b[1mtrain: \u001b[0mScanning C:\\Users\\Gumpun\\Desktop\\Project\\DetectionInsect\\ThaiInsectv8\\train\\labels.cache... 324 images, 0 backgrounds, 0 corrupt: 100%|██████████| 324/324 [00:00<?, ?it/s]\n",
            "\u001b[34m\u001b[1mval: \u001b[0mScanning C:\\Users\\Gumpun\\Desktop\\Project\\DetectionInsect\\ThaiInsectv8\\valid\\labels.cache... 36 images, 0 backgrounds, 0 corrupt: 100%|██████████| 36/36 [00:00<?, ?it/s]\n"
          ]
        },
        {
          "name": "stdout",
          "output_type": "stream",
          "text": [
            "Plotting labels to runs\\detect\\train4\\labels.jpg... \n",
            "\u001b[34m\u001b[1moptimizer:\u001b[0m 'optimizer=auto' found, ignoring 'lr0=0.01' and 'momentum=0.937' and determining best 'optimizer', 'lr0' and 'momentum' automatically... \n",
            "\u001b[34m\u001b[1moptimizer:\u001b[0m AdamW(lr=0.00025, momentum=0.9) with parameter groups 57 weight(decay=0.0), 64 weight(decay=0.0005), 63 bias(decay=0.0)\n",
            "Image sizes 640 train, 640 val\n",
            "Using 8 dataloader workers\n",
            "Logging results to \u001b[1mruns\\detect\\train4\u001b[0m\n",
            "Starting training for 100 epochs...\n",
            "\n",
            "      Epoch    GPU_mem   box_loss   cls_loss   dfl_loss  Instances       Size\n"
          ]
        },
        {
          "name": "stderr",
          "output_type": "stream",
          "text": [
            "      1/100      2.29G      1.104        4.3      1.448         24        640: 100%|██████████| 21/21 [00:07<00:00,  2.74it/s]\n",
            "                 Class     Images  Instances      Box(P          R      mAP50  mAP50-95): 100%|██████████| 2/2 [00:00<00:00,  5.93it/s]"
          ]
        },
        {
          "name": "stdout",
          "output_type": "stream",
          "text": [
            "                   all         36         51          0          0          0          0\n"
          ]
        },
        {
          "name": "stderr",
          "output_type": "stream",
          "text": [
            "\n"
          ]
        },
        {
          "name": "stdout",
          "output_type": "stream",
          "text": [
            "\n",
            "      Epoch    GPU_mem   box_loss   cls_loss   dfl_loss  Instances       Size\n"
          ]
        },
        {
          "name": "stderr",
          "output_type": "stream",
          "text": [
            "      2/100      2.28G     0.8682      4.249      1.326         15        640: 100%|██████████| 21/21 [00:02<00:00,  8.97it/s]\n",
            "                 Class     Images  Instances      Box(P          R      mAP50  mAP50-95): 100%|██████████| 2/2 [00:00<00:00, 11.69it/s]"
          ]
        },
        {
          "name": "stdout",
          "output_type": "stream",
          "text": [
            "                   all         36         51          0          0          0          0\n"
          ]
        },
        {
          "name": "stderr",
          "output_type": "stream",
          "text": [
            "\n"
          ]
        },
        {
          "name": "stdout",
          "output_type": "stream",
          "text": [
            "\n",
            "      Epoch    GPU_mem   box_loss   cls_loss   dfl_loss  Instances       Size\n"
          ]
        },
        {
          "name": "stderr",
          "output_type": "stream",
          "text": [
            "      3/100       2.3G     0.7584      4.145      1.237         30        640: 100%|██████████| 21/21 [00:02<00:00,  9.10it/s]\n",
            "                 Class     Images  Instances      Box(P          R      mAP50  mAP50-95): 100%|██████████| 2/2 [00:00<00:00, 11.98it/s]"
          ]
        },
        {
          "name": "stdout",
          "output_type": "stream",
          "text": [
            "                   all         36         51          0          0          0          0\n"
          ]
        },
        {
          "name": "stderr",
          "output_type": "stream",
          "text": [
            "\n"
          ]
        },
        {
          "name": "stdout",
          "output_type": "stream",
          "text": [
            "\n",
            "      Epoch    GPU_mem   box_loss   cls_loss   dfl_loss  Instances       Size\n"
          ]
        },
        {
          "name": "stderr",
          "output_type": "stream",
          "text": [
            "      4/100      2.31G     0.7596      4.011      1.237         30        640: 100%|██████████| 21/21 [00:02<00:00,  9.41it/s]\n",
            "                 Class     Images  Instances      Box(P          R      mAP50  mAP50-95): 100%|██████████| 2/2 [00:00<00:00,  9.48it/s]"
          ]
        },
        {
          "name": "stdout",
          "output_type": "stream",
          "text": [
            "                   all         36         51     0.0247      0.088       0.05     0.0302\n"
          ]
        },
        {
          "name": "stderr",
          "output_type": "stream",
          "text": [
            "\n"
          ]
        },
        {
          "name": "stdout",
          "output_type": "stream",
          "text": [
            "\n",
            "      Epoch    GPU_mem   box_loss   cls_loss   dfl_loss  Instances       Size\n"
          ]
        },
        {
          "name": "stderr",
          "output_type": "stream",
          "text": [
            "      5/100      2.28G     0.7802      3.845      1.233         22        640: 100%|██████████| 21/21 [00:02<00:00,  9.98it/s]\n",
            "                 Class     Images  Instances      Box(P          R      mAP50  mAP50-95): 100%|██████████| 2/2 [00:00<00:00,  8.60it/s]"
          ]
        },
        {
          "name": "stdout",
          "output_type": "stream",
          "text": [
            "                   all         36         51     0.0138      0.169     0.0935      0.054\n"
          ]
        },
        {
          "name": "stderr",
          "output_type": "stream",
          "text": [
            "\n"
          ]
        },
        {
          "name": "stdout",
          "output_type": "stream",
          "text": [
            "\n",
            "      Epoch    GPU_mem   box_loss   cls_loss   dfl_loss  Instances       Size\n"
          ]
        },
        {
          "name": "stderr",
          "output_type": "stream",
          "text": [
            "      6/100      2.35G     0.7373      3.707      1.212         33        640: 100%|██████████| 21/21 [00:02<00:00,  9.81it/s]\n",
            "                 Class     Images  Instances      Box(P          R      mAP50  mAP50-95): 100%|██████████| 2/2 [00:00<00:00,  7.27it/s]"
          ]
        },
        {
          "name": "stdout",
          "output_type": "stream",
          "text": [
            "                   all         36         51     0.0175       0.41      0.133     0.0777\n"
          ]
        },
        {
          "name": "stderr",
          "output_type": "stream",
          "text": [
            "\n"
          ]
        },
        {
          "name": "stdout",
          "output_type": "stream",
          "text": [
            "\n",
            "      Epoch    GPU_mem   box_loss   cls_loss   dfl_loss  Instances       Size\n"
          ]
        },
        {
          "name": "stderr",
          "output_type": "stream",
          "text": [
            "      7/100       2.3G     0.7435      3.617      1.224         26        640: 100%|██████████| 21/21 [00:02<00:00,  9.74it/s]\n",
            "                 Class     Images  Instances      Box(P          R      mAP50  mAP50-95): 100%|██████████| 2/2 [00:00<00:00,  6.94it/s]"
          ]
        },
        {
          "name": "stdout",
          "output_type": "stream",
          "text": [
            "                   all         36         51      0.844     0.0402      0.117     0.0546\n"
          ]
        },
        {
          "name": "stderr",
          "output_type": "stream",
          "text": [
            "\n"
          ]
        },
        {
          "name": "stdout",
          "output_type": "stream",
          "text": [
            "\n",
            "      Epoch    GPU_mem   box_loss   cls_loss   dfl_loss  Instances       Size\n"
          ]
        },
        {
          "name": "stderr",
          "output_type": "stream",
          "text": [
            "      8/100      2.32G     0.7412      3.435      1.212         21        640: 100%|██████████| 21/21 [00:02<00:00,  9.40it/s]\n",
            "                 Class     Images  Instances      Box(P          R      mAP50  mAP50-95): 100%|██████████| 2/2 [00:00<00:00,  7.04it/s]"
          ]
        },
        {
          "name": "stdout",
          "output_type": "stream",
          "text": [
            "                   all         36         51      0.682      0.194      0.218      0.117\n"
          ]
        },
        {
          "name": "stderr",
          "output_type": "stream",
          "text": [
            "\n"
          ]
        },
        {
          "name": "stdout",
          "output_type": "stream",
          "text": [
            "\n",
            "      Epoch    GPU_mem   box_loss   cls_loss   dfl_loss  Instances       Size\n"
          ]
        },
        {
          "name": "stderr",
          "output_type": "stream",
          "text": [
            "      9/100      2.27G     0.7767        3.3      1.236         31        640: 100%|██████████| 21/21 [00:02<00:00, 10.03it/s]\n",
            "                 Class     Images  Instances      Box(P          R      mAP50  mAP50-95): 100%|██████████| 2/2 [00:00<00:00,  6.90it/s]"
          ]
        },
        {
          "name": "stdout",
          "output_type": "stream",
          "text": [
            "                   all         36         51      0.814      0.104      0.247      0.122\n"
          ]
        },
        {
          "name": "stderr",
          "output_type": "stream",
          "text": [
            "\n"
          ]
        },
        {
          "name": "stdout",
          "output_type": "stream",
          "text": [
            "\n",
            "      Epoch    GPU_mem   box_loss   cls_loss   dfl_loss  Instances       Size\n"
          ]
        },
        {
          "name": "stderr",
          "output_type": "stream",
          "text": [
            "     10/100      2.28G      0.778      3.206      1.232         28        640: 100%|██████████| 21/21 [00:02<00:00, 10.15it/s]\n",
            "                 Class     Images  Instances      Box(P          R      mAP50  mAP50-95): 100%|██████████| 2/2 [00:00<00:00,  7.19it/s]"
          ]
        },
        {
          "name": "stdout",
          "output_type": "stream",
          "text": [
            "                   all         36         51      0.728      0.159      0.315      0.173\n"
          ]
        },
        {
          "name": "stderr",
          "output_type": "stream",
          "text": [
            "\n"
          ]
        },
        {
          "name": "stdout",
          "output_type": "stream",
          "text": [
            "\n",
            "      Epoch    GPU_mem   box_loss   cls_loss   dfl_loss  Instances       Size\n"
          ]
        },
        {
          "name": "stderr",
          "output_type": "stream",
          "text": [
            "     11/100      2.26G     0.7264      3.103      1.214         17        640: 100%|██████████| 21/21 [00:02<00:00, 10.07it/s]\n",
            "                 Class     Images  Instances      Box(P          R      mAP50  mAP50-95): 100%|██████████| 2/2 [00:00<00:00,  7.41it/s]"
          ]
        },
        {
          "name": "stdout",
          "output_type": "stream",
          "text": [
            "                   all         36         51      0.699      0.137      0.282      0.134\n"
          ]
        },
        {
          "name": "stderr",
          "output_type": "stream",
          "text": [
            "\n"
          ]
        },
        {
          "name": "stdout",
          "output_type": "stream",
          "text": [
            "\n",
            "      Epoch    GPU_mem   box_loss   cls_loss   dfl_loss  Instances       Size\n"
          ]
        },
        {
          "name": "stderr",
          "output_type": "stream",
          "text": [
            "     12/100       2.3G     0.7614      3.038      1.219         20        640: 100%|██████████| 21/21 [00:02<00:00, 10.14it/s]\n",
            "                 Class     Images  Instances      Box(P          R      mAP50  mAP50-95): 100%|██████████| 2/2 [00:00<00:00,  7.44it/s]"
          ]
        },
        {
          "name": "stdout",
          "output_type": "stream",
          "text": [
            "                   all         36         51      0.653      0.206      0.296       0.13\n"
          ]
        },
        {
          "name": "stderr",
          "output_type": "stream",
          "text": [
            "\n"
          ]
        },
        {
          "name": "stdout",
          "output_type": "stream",
          "text": [
            "\n",
            "      Epoch    GPU_mem   box_loss   cls_loss   dfl_loss  Instances       Size\n"
          ]
        },
        {
          "name": "stderr",
          "output_type": "stream",
          "text": [
            "     13/100      2.27G     0.7823      2.869      1.221         32        640: 100%|██████████| 21/21 [00:02<00:00, 10.04it/s]\n",
            "                 Class     Images  Instances      Box(P          R      mAP50  mAP50-95): 100%|██████████| 2/2 [00:00<00:00,  7.31it/s]"
          ]
        },
        {
          "name": "stdout",
          "output_type": "stream",
          "text": [
            "                   all         36         51      0.551       0.27      0.383       0.16\n"
          ]
        },
        {
          "name": "stderr",
          "output_type": "stream",
          "text": [
            "\n"
          ]
        },
        {
          "name": "stdout",
          "output_type": "stream",
          "text": [
            "\n",
            "      Epoch    GPU_mem   box_loss   cls_loss   dfl_loss  Instances       Size\n"
          ]
        },
        {
          "name": "stderr",
          "output_type": "stream",
          "text": [
            "     14/100       2.3G     0.7892      2.798       1.25         17        640: 100%|██████████| 21/21 [00:02<00:00,  9.95it/s]\n",
            "                 Class     Images  Instances      Box(P          R      mAP50  mAP50-95): 100%|██████████| 2/2 [00:00<00:00,  7.47it/s]"
          ]
        },
        {
          "name": "stdout",
          "output_type": "stream",
          "text": [
            "                   all         36         51      0.548      0.294      0.435      0.168\n"
          ]
        },
        {
          "name": "stderr",
          "output_type": "stream",
          "text": [
            "\n"
          ]
        },
        {
          "name": "stdout",
          "output_type": "stream",
          "text": [
            "\n",
            "      Epoch    GPU_mem   box_loss   cls_loss   dfl_loss  Instances       Size\n"
          ]
        },
        {
          "name": "stderr",
          "output_type": "stream",
          "text": [
            "     15/100      2.28G      0.772      2.688      1.223         29        640: 100%|██████████| 21/21 [00:02<00:00,  9.91it/s]\n",
            "                 Class     Images  Instances      Box(P          R      mAP50  mAP50-95): 100%|██████████| 2/2 [00:00<00:00,  6.87it/s]"
          ]
        },
        {
          "name": "stdout",
          "output_type": "stream",
          "text": [
            "                   all         36         51      0.467      0.269      0.379      0.176\n"
          ]
        },
        {
          "name": "stderr",
          "output_type": "stream",
          "text": [
            "\n"
          ]
        },
        {
          "name": "stdout",
          "output_type": "stream",
          "text": [
            "\n",
            "      Epoch    GPU_mem   box_loss   cls_loss   dfl_loss  Instances       Size\n"
          ]
        },
        {
          "name": "stderr",
          "output_type": "stream",
          "text": [
            "     16/100       2.3G     0.7521      2.593      1.208         32        640: 100%|██████████| 21/21 [00:02<00:00,  9.89it/s]\n",
            "                 Class     Images  Instances      Box(P          R      mAP50  mAP50-95): 100%|██████████| 2/2 [00:00<00:00,  7.58it/s]"
          ]
        },
        {
          "name": "stdout",
          "output_type": "stream",
          "text": [
            "                   all         36         51      0.712      0.317      0.479      0.267\n"
          ]
        },
        {
          "name": "stderr",
          "output_type": "stream",
          "text": [
            "\n"
          ]
        },
        {
          "name": "stdout",
          "output_type": "stream",
          "text": [
            "\n",
            "      Epoch    GPU_mem   box_loss   cls_loss   dfl_loss  Instances       Size\n"
          ]
        },
        {
          "name": "stderr",
          "output_type": "stream",
          "text": [
            "     17/100       2.3G     0.7843      2.536      1.221         10        640: 100%|██████████| 21/21 [00:02<00:00,  9.99it/s]\n",
            "                 Class     Images  Instances      Box(P          R      mAP50  mAP50-95): 100%|██████████| 2/2 [00:00<00:00,  7.62it/s]"
          ]
        },
        {
          "name": "stdout",
          "output_type": "stream",
          "text": [
            "                   all         36         51      0.486      0.442      0.513      0.282\n"
          ]
        },
        {
          "name": "stderr",
          "output_type": "stream",
          "text": [
            "\n"
          ]
        },
        {
          "name": "stdout",
          "output_type": "stream",
          "text": [
            "\n",
            "      Epoch    GPU_mem   box_loss   cls_loss   dfl_loss  Instances       Size\n"
          ]
        },
        {
          "name": "stderr",
          "output_type": "stream",
          "text": [
            "     18/100       2.3G     0.7218      2.454      1.195         39        640: 100%|██████████| 21/21 [00:02<00:00,  9.90it/s]\n",
            "                 Class     Images  Instances      Box(P          R      mAP50  mAP50-95): 100%|██████████| 2/2 [00:00<00:00,  7.38it/s]"
          ]
        },
        {
          "name": "stdout",
          "output_type": "stream",
          "text": [
            "                   all         36         51      0.417      0.458      0.532      0.282\n"
          ]
        },
        {
          "name": "stderr",
          "output_type": "stream",
          "text": [
            "\n"
          ]
        },
        {
          "name": "stdout",
          "output_type": "stream",
          "text": [
            "\n",
            "      Epoch    GPU_mem   box_loss   cls_loss   dfl_loss  Instances       Size\n"
          ]
        },
        {
          "name": "stderr",
          "output_type": "stream",
          "text": [
            "     19/100      2.32G     0.7418      2.357       1.19         26        640: 100%|██████████| 21/21 [00:02<00:00, 10.13it/s]\n",
            "                 Class     Images  Instances      Box(P          R      mAP50  mAP50-95): 100%|██████████| 2/2 [00:00<00:00,  6.90it/s]"
          ]
        },
        {
          "name": "stdout",
          "output_type": "stream",
          "text": [
            "                   all         36         51      0.453      0.479       0.51      0.299\n"
          ]
        },
        {
          "name": "stderr",
          "output_type": "stream",
          "text": [
            "\n"
          ]
        },
        {
          "name": "stdout",
          "output_type": "stream",
          "text": [
            "\n",
            "      Epoch    GPU_mem   box_loss   cls_loss   dfl_loss  Instances       Size\n"
          ]
        },
        {
          "name": "stderr",
          "output_type": "stream",
          "text": [
            "     20/100      2.28G      0.684      2.283      1.162         24        640: 100%|██████████| 21/21 [00:02<00:00,  9.73it/s]\n",
            "                 Class     Images  Instances      Box(P          R      mAP50  mAP50-95): 100%|██████████| 2/2 [00:00<00:00,  7.71it/s]"
          ]
        },
        {
          "name": "stdout",
          "output_type": "stream",
          "text": [
            "                   all         36         51      0.616      0.406      0.523      0.293\n"
          ]
        },
        {
          "name": "stderr",
          "output_type": "stream",
          "text": [
            "\n"
          ]
        },
        {
          "name": "stdout",
          "output_type": "stream",
          "text": [
            "\n",
            "      Epoch    GPU_mem   box_loss   cls_loss   dfl_loss  Instances       Size\n"
          ]
        },
        {
          "name": "stderr",
          "output_type": "stream",
          "text": [
            "     21/100      2.27G     0.7606       2.24       1.18         27        640: 100%|██████████| 21/21 [00:02<00:00,  9.92it/s]\n",
            "                 Class     Images  Instances      Box(P          R      mAP50  mAP50-95): 100%|██████████| 2/2 [00:00<00:00,  7.27it/s]"
          ]
        },
        {
          "name": "stdout",
          "output_type": "stream",
          "text": [
            "                   all         36         51       0.53      0.462      0.518      0.283\n"
          ]
        },
        {
          "name": "stderr",
          "output_type": "stream",
          "text": [
            "\n"
          ]
        },
        {
          "name": "stdout",
          "output_type": "stream",
          "text": [
            "\n",
            "      Epoch    GPU_mem   box_loss   cls_loss   dfl_loss  Instances       Size\n"
          ]
        },
        {
          "name": "stderr",
          "output_type": "stream",
          "text": [
            "     22/100      2.31G      0.742       2.16      1.177         34        640: 100%|██████████| 21/21 [00:02<00:00, 10.27it/s]\n",
            "                 Class     Images  Instances      Box(P          R      mAP50  mAP50-95): 100%|██████████| 2/2 [00:00<00:00,  7.55it/s]"
          ]
        },
        {
          "name": "stdout",
          "output_type": "stream",
          "text": [
            "                   all         36         51      0.486       0.46      0.568      0.324\n"
          ]
        },
        {
          "name": "stderr",
          "output_type": "stream",
          "text": [
            "\n"
          ]
        },
        {
          "name": "stdout",
          "output_type": "stream",
          "text": [
            "\n",
            "      Epoch    GPU_mem   box_loss   cls_loss   dfl_loss  Instances       Size\n"
          ]
        },
        {
          "name": "stderr",
          "output_type": "stream",
          "text": [
            "     23/100      2.26G     0.6979      2.088      1.171         31        640: 100%|██████████| 21/21 [00:02<00:00, 10.15it/s]\n",
            "                 Class     Images  Instances      Box(P          R      mAP50  mAP50-95): 100%|██████████| 2/2 [00:00<00:00,  7.22it/s]"
          ]
        },
        {
          "name": "stdout",
          "output_type": "stream",
          "text": [
            "                   all         36         51      0.452      0.595      0.584      0.306\n"
          ]
        },
        {
          "name": "stderr",
          "output_type": "stream",
          "text": [
            "\n"
          ]
        },
        {
          "name": "stdout",
          "output_type": "stream",
          "text": [
            "\n",
            "      Epoch    GPU_mem   box_loss   cls_loss   dfl_loss  Instances       Size\n"
          ]
        },
        {
          "name": "stderr",
          "output_type": "stream",
          "text": [
            "     24/100      2.29G     0.6814      2.061      1.141         38        640: 100%|██████████| 21/21 [00:02<00:00, 10.19it/s]\n",
            "                 Class     Images  Instances      Box(P          R      mAP50  mAP50-95): 100%|██████████| 2/2 [00:00<00:00,  7.19it/s]"
          ]
        },
        {
          "name": "stdout",
          "output_type": "stream",
          "text": [
            "                   all         36         51      0.516       0.55      0.621      0.342\n"
          ]
        },
        {
          "name": "stderr",
          "output_type": "stream",
          "text": [
            "\n"
          ]
        },
        {
          "name": "stdout",
          "output_type": "stream",
          "text": [
            "\n",
            "      Epoch    GPU_mem   box_loss   cls_loss   dfl_loss  Instances       Size\n"
          ]
        },
        {
          "name": "stderr",
          "output_type": "stream",
          "text": [
            "     25/100       2.3G     0.6948      1.959      1.168         33        640: 100%|██████████| 21/21 [00:02<00:00, 10.19it/s]\n",
            "                 Class     Images  Instances      Box(P          R      mAP50  mAP50-95): 100%|██████████| 2/2 [00:00<00:00,  7.14it/s]"
          ]
        },
        {
          "name": "stdout",
          "output_type": "stream",
          "text": [
            "                   all         36         51      0.642      0.472      0.641      0.363\n"
          ]
        },
        {
          "name": "stderr",
          "output_type": "stream",
          "text": [
            "\n"
          ]
        },
        {
          "name": "stdout",
          "output_type": "stream",
          "text": [
            "\n",
            "      Epoch    GPU_mem   box_loss   cls_loss   dfl_loss  Instances       Size\n"
          ]
        },
        {
          "name": "stderr",
          "output_type": "stream",
          "text": [
            "     26/100      2.31G     0.6976      1.934      1.154         27        640: 100%|██████████| 21/21 [00:02<00:00, 10.31it/s]\n",
            "                 Class     Images  Instances      Box(P          R      mAP50  mAP50-95): 100%|██████████| 2/2 [00:00<00:00,  7.60it/s]"
          ]
        },
        {
          "name": "stdout",
          "output_type": "stream",
          "text": [
            "                   all         36         51      0.542      0.559      0.641      0.341\n"
          ]
        },
        {
          "name": "stderr",
          "output_type": "stream",
          "text": [
            "\n"
          ]
        },
        {
          "name": "stdout",
          "output_type": "stream",
          "text": [
            "\n",
            "      Epoch    GPU_mem   box_loss   cls_loss   dfl_loss  Instances       Size\n"
          ]
        },
        {
          "name": "stderr",
          "output_type": "stream",
          "text": [
            "     27/100      2.26G      0.694      1.876      1.144         25        640: 100%|██████████| 21/21 [00:02<00:00, 10.37it/s]\n",
            "                 Class     Images  Instances      Box(P          R      mAP50  mAP50-95): 100%|██████████| 2/2 [00:00<00:00,  7.69it/s]"
          ]
        },
        {
          "name": "stdout",
          "output_type": "stream",
          "text": [
            "                   all         36         51      0.605      0.509       0.65      0.377\n"
          ]
        },
        {
          "name": "stderr",
          "output_type": "stream",
          "text": [
            "\n"
          ]
        },
        {
          "name": "stdout",
          "output_type": "stream",
          "text": [
            "\n",
            "      Epoch    GPU_mem   box_loss   cls_loss   dfl_loss  Instances       Size\n"
          ]
        },
        {
          "name": "stderr",
          "output_type": "stream",
          "text": [
            "     28/100      2.25G     0.6814      1.802       1.14         35        640: 100%|██████████| 21/21 [00:02<00:00, 10.00it/s]\n",
            "                 Class     Images  Instances      Box(P          R      mAP50  mAP50-95): 100%|██████████| 2/2 [00:00<00:00,  7.25it/s]"
          ]
        },
        {
          "name": "stdout",
          "output_type": "stream",
          "text": [
            "                   all         36         51      0.577      0.469      0.607      0.363\n"
          ]
        },
        {
          "name": "stderr",
          "output_type": "stream",
          "text": [
            "\n"
          ]
        },
        {
          "name": "stdout",
          "output_type": "stream",
          "text": [
            "\n",
            "      Epoch    GPU_mem   box_loss   cls_loss   dfl_loss  Instances       Size\n"
          ]
        },
        {
          "name": "stderr",
          "output_type": "stream",
          "text": [
            "     29/100      2.27G     0.6718       1.77      1.121         28        640: 100%|██████████| 21/21 [00:02<00:00, 10.22it/s]\n",
            "                 Class     Images  Instances      Box(P          R      mAP50  mAP50-95): 100%|██████████| 2/2 [00:00<00:00,  7.58it/s]"
          ]
        },
        {
          "name": "stdout",
          "output_type": "stream",
          "text": [
            "                   all         36         51      0.565      0.498      0.559      0.348\n"
          ]
        },
        {
          "name": "stderr",
          "output_type": "stream",
          "text": [
            "\n"
          ]
        },
        {
          "name": "stdout",
          "output_type": "stream",
          "text": [
            "\n",
            "      Epoch    GPU_mem   box_loss   cls_loss   dfl_loss  Instances       Size\n"
          ]
        },
        {
          "name": "stderr",
          "output_type": "stream",
          "text": [
            "     30/100      2.29G     0.6258      1.752      1.127         19        640: 100%|██████████| 21/21 [00:02<00:00,  9.96it/s]\n",
            "                 Class     Images  Instances      Box(P          R      mAP50  mAP50-95): 100%|██████████| 2/2 [00:00<00:00,  7.19it/s]"
          ]
        },
        {
          "name": "stdout",
          "output_type": "stream",
          "text": [
            "                   all         36         51      0.365      0.687      0.665      0.405\n"
          ]
        },
        {
          "name": "stderr",
          "output_type": "stream",
          "text": [
            "\n"
          ]
        },
        {
          "name": "stdout",
          "output_type": "stream",
          "text": [
            "\n",
            "      Epoch    GPU_mem   box_loss   cls_loss   dfl_loss  Instances       Size\n"
          ]
        },
        {
          "name": "stderr",
          "output_type": "stream",
          "text": [
            "     31/100      2.28G     0.6377      1.687      1.117         29        640: 100%|██████████| 21/21 [00:02<00:00,  9.80it/s]\n",
            "                 Class     Images  Instances      Box(P          R      mAP50  mAP50-95): 100%|██████████| 2/2 [00:00<00:00,  5.10it/s]"
          ]
        },
        {
          "name": "stdout",
          "output_type": "stream",
          "text": [
            "                   all         36         51      0.669      0.511      0.756      0.463\n"
          ]
        },
        {
          "name": "stderr",
          "output_type": "stream",
          "text": [
            "\n"
          ]
        },
        {
          "name": "stdout",
          "output_type": "stream",
          "text": [
            "\n",
            "      Epoch    GPU_mem   box_loss   cls_loss   dfl_loss  Instances       Size\n"
          ]
        },
        {
          "name": "stderr",
          "output_type": "stream",
          "text": [
            "     32/100      2.29G     0.6333       1.59      1.099         41        640: 100%|██████████| 21/21 [00:02<00:00,  9.64it/s]\n",
            "                 Class     Images  Instances      Box(P          R      mAP50  mAP50-95): 100%|██████████| 2/2 [00:00<00:00,  6.94it/s]"
          ]
        },
        {
          "name": "stdout",
          "output_type": "stream",
          "text": [
            "                   all         36         51      0.631      0.562      0.722      0.436\n"
          ]
        },
        {
          "name": "stderr",
          "output_type": "stream",
          "text": [
            "\n"
          ]
        },
        {
          "name": "stdout",
          "output_type": "stream",
          "text": [
            "\n",
            "      Epoch    GPU_mem   box_loss   cls_loss   dfl_loss  Instances       Size\n"
          ]
        },
        {
          "name": "stderr",
          "output_type": "stream",
          "text": [
            "     33/100      2.28G     0.6123      1.619      1.131         28        640: 100%|██████████| 21/21 [00:02<00:00,  9.63it/s]\n",
            "                 Class     Images  Instances      Box(P          R      mAP50  mAP50-95): 100%|██████████| 2/2 [00:00<00:00,  7.55it/s]"
          ]
        },
        {
          "name": "stdout",
          "output_type": "stream",
          "text": [
            "                   all         36         51      0.652       0.57      0.708      0.417\n"
          ]
        },
        {
          "name": "stderr",
          "output_type": "stream",
          "text": [
            "\n"
          ]
        },
        {
          "name": "stdout",
          "output_type": "stream",
          "text": [
            "\n",
            "      Epoch    GPU_mem   box_loss   cls_loss   dfl_loss  Instances       Size\n"
          ]
        },
        {
          "name": "stderr",
          "output_type": "stream",
          "text": [
            "     34/100       2.3G     0.6158      1.577      1.104         44        640: 100%|██████████| 21/21 [00:02<00:00,  9.98it/s]\n",
            "                 Class     Images  Instances      Box(P          R      mAP50  mAP50-95): 100%|██████████| 2/2 [00:00<00:00,  7.22it/s]"
          ]
        },
        {
          "name": "stdout",
          "output_type": "stream",
          "text": [
            "                   all         36         51       0.61      0.602      0.691      0.375\n"
          ]
        },
        {
          "name": "stderr",
          "output_type": "stream",
          "text": [
            "\n"
          ]
        },
        {
          "name": "stdout",
          "output_type": "stream",
          "text": [
            "\n",
            "      Epoch    GPU_mem   box_loss   cls_loss   dfl_loss  Instances       Size\n"
          ]
        },
        {
          "name": "stderr",
          "output_type": "stream",
          "text": [
            "     35/100      2.29G     0.6181       1.52      1.097         30        640: 100%|██████████| 21/21 [00:02<00:00, 10.14it/s]\n",
            "                 Class     Images  Instances      Box(P          R      mAP50  mAP50-95): 100%|██████████| 2/2 [00:00<00:00,  7.52it/s]"
          ]
        },
        {
          "name": "stdout",
          "output_type": "stream",
          "text": [
            "                   all         36         51      0.687      0.551      0.707      0.426\n"
          ]
        },
        {
          "name": "stderr",
          "output_type": "stream",
          "text": [
            "\n"
          ]
        },
        {
          "name": "stdout",
          "output_type": "stream",
          "text": [
            "\n",
            "      Epoch    GPU_mem   box_loss   cls_loss   dfl_loss  Instances       Size\n"
          ]
        },
        {
          "name": "stderr",
          "output_type": "stream",
          "text": [
            "     36/100       2.3G     0.6029      1.511      1.101         19        640: 100%|██████████| 21/21 [00:02<00:00, 10.10it/s]\n",
            "                 Class     Images  Instances      Box(P          R      mAP50  mAP50-95): 100%|██████████| 2/2 [00:00<00:00,  7.33it/s]"
          ]
        },
        {
          "name": "stdout",
          "output_type": "stream",
          "text": [
            "                   all         36         51       0.65      0.643      0.705       0.42\n"
          ]
        },
        {
          "name": "stderr",
          "output_type": "stream",
          "text": [
            "\n"
          ]
        },
        {
          "name": "stdout",
          "output_type": "stream",
          "text": [
            "\n",
            "      Epoch    GPU_mem   box_loss   cls_loss   dfl_loss  Instances       Size\n"
          ]
        },
        {
          "name": "stderr",
          "output_type": "stream",
          "text": [
            "     37/100      2.27G      0.588      1.467      1.083         32        640: 100%|██████████| 21/21 [00:02<00:00,  9.61it/s]\n",
            "                 Class     Images  Instances      Box(P          R      mAP50  mAP50-95): 100%|██████████| 2/2 [00:00<00:00,  7.27it/s]"
          ]
        },
        {
          "name": "stdout",
          "output_type": "stream",
          "text": [
            "                   all         36         51      0.484      0.637      0.746      0.418\n"
          ]
        },
        {
          "name": "stderr",
          "output_type": "stream",
          "text": [
            "\n"
          ]
        },
        {
          "name": "stdout",
          "output_type": "stream",
          "text": [
            "\n",
            "      Epoch    GPU_mem   box_loss   cls_loss   dfl_loss  Instances       Size\n"
          ]
        },
        {
          "name": "stderr",
          "output_type": "stream",
          "text": [
            "     38/100      2.29G     0.6258      1.429       1.09         22        640: 100%|██████████| 21/21 [00:02<00:00,  9.97it/s]\n",
            "                 Class     Images  Instances      Box(P          R      mAP50  mAP50-95): 100%|██████████| 2/2 [00:00<00:00,  6.90it/s]"
          ]
        },
        {
          "name": "stdout",
          "output_type": "stream",
          "text": [
            "                   all         36         51      0.456      0.706      0.737      0.442\n"
          ]
        },
        {
          "name": "stderr",
          "output_type": "stream",
          "text": [
            "\n"
          ]
        },
        {
          "name": "stdout",
          "output_type": "stream",
          "text": [
            "\n",
            "      Epoch    GPU_mem   box_loss   cls_loss   dfl_loss  Instances       Size\n"
          ]
        },
        {
          "name": "stderr",
          "output_type": "stream",
          "text": [
            "     39/100      2.31G     0.5856      1.456      1.092         17        640: 100%|██████████| 21/21 [00:02<00:00,  9.90it/s]\n",
            "                 Class     Images  Instances      Box(P          R      mAP50  mAP50-95): 100%|██████████| 2/2 [00:00<00:00,  7.41it/s]"
          ]
        },
        {
          "name": "stdout",
          "output_type": "stream",
          "text": [
            "                   all         36         51      0.526      0.631      0.721      0.418\n"
          ]
        },
        {
          "name": "stderr",
          "output_type": "stream",
          "text": [
            "\n"
          ]
        },
        {
          "name": "stdout",
          "output_type": "stream",
          "text": [
            "\n",
            "      Epoch    GPU_mem   box_loss   cls_loss   dfl_loss  Instances       Size\n"
          ]
        },
        {
          "name": "stderr",
          "output_type": "stream",
          "text": [
            "     40/100      2.26G      0.589      1.399      1.087         25        640: 100%|██████████| 21/21 [00:02<00:00,  9.94it/s]\n",
            "                 Class     Images  Instances      Box(P          R      mAP50  mAP50-95): 100%|██████████| 2/2 [00:00<00:00,  7.35it/s]"
          ]
        },
        {
          "name": "stdout",
          "output_type": "stream",
          "text": [
            "                   all         36         51      0.744      0.606      0.714      0.435\n"
          ]
        },
        {
          "name": "stderr",
          "output_type": "stream",
          "text": [
            "\n"
          ]
        },
        {
          "name": "stdout",
          "output_type": "stream",
          "text": [
            "\n",
            "      Epoch    GPU_mem   box_loss   cls_loss   dfl_loss  Instances       Size\n"
          ]
        },
        {
          "name": "stderr",
          "output_type": "stream",
          "text": [
            "     41/100       2.3G     0.5575        1.4      1.068         15        640: 100%|██████████| 21/21 [00:02<00:00, 10.26it/s]\n",
            "                 Class     Images  Instances      Box(P          R      mAP50  mAP50-95): 100%|██████████| 2/2 [00:00<00:00,  7.69it/s]"
          ]
        },
        {
          "name": "stdout",
          "output_type": "stream",
          "text": [
            "                   all         36         51      0.445      0.676      0.748      0.431\n"
          ]
        },
        {
          "name": "stderr",
          "output_type": "stream",
          "text": [
            "\n"
          ]
        },
        {
          "name": "stdout",
          "output_type": "stream",
          "text": [
            "\n",
            "      Epoch    GPU_mem   box_loss   cls_loss   dfl_loss  Instances       Size\n"
          ]
        },
        {
          "name": "stderr",
          "output_type": "stream",
          "text": [
            "     42/100       2.3G     0.5842       1.38      1.076         22        640: 100%|██████████| 21/21 [00:02<00:00, 10.22it/s]\n",
            "                 Class     Images  Instances      Box(P          R      mAP50  mAP50-95): 100%|██████████| 2/2 [00:00<00:00,  6.59it/s]"
          ]
        },
        {
          "name": "stdout",
          "output_type": "stream",
          "text": [
            "                   all         36         51      0.536      0.705      0.748      0.416\n"
          ]
        },
        {
          "name": "stderr",
          "output_type": "stream",
          "text": [
            "\n"
          ]
        },
        {
          "name": "stdout",
          "output_type": "stream",
          "text": [
            "\n",
            "      Epoch    GPU_mem   box_loss   cls_loss   dfl_loss  Instances       Size\n"
          ]
        },
        {
          "name": "stderr",
          "output_type": "stream",
          "text": [
            "     43/100      2.26G       0.56      1.349      1.077         39        640: 100%|██████████| 21/21 [00:02<00:00, 10.21it/s]\n",
            "                 Class     Images  Instances      Box(P          R      mAP50  mAP50-95): 100%|██████████| 2/2 [00:00<00:00,  7.75it/s]"
          ]
        },
        {
          "name": "stdout",
          "output_type": "stream",
          "text": [
            "                   all         36         51      0.595      0.588      0.761      0.492\n"
          ]
        },
        {
          "name": "stderr",
          "output_type": "stream",
          "text": [
            "\n"
          ]
        },
        {
          "name": "stdout",
          "output_type": "stream",
          "text": [
            "\n",
            "      Epoch    GPU_mem   box_loss   cls_loss   dfl_loss  Instances       Size\n"
          ]
        },
        {
          "name": "stderr",
          "output_type": "stream",
          "text": [
            "     44/100      2.31G     0.5732      1.266      1.063         25        640: 100%|██████████| 21/21 [00:02<00:00,  9.82it/s]\n",
            "                 Class     Images  Instances      Box(P          R      mAP50  mAP50-95): 100%|██████████| 2/2 [00:00<00:00,  8.03it/s]"
          ]
        },
        {
          "name": "stdout",
          "output_type": "stream",
          "text": [
            "                   all         36         51      0.604      0.726      0.825      0.522\n"
          ]
        },
        {
          "name": "stderr",
          "output_type": "stream",
          "text": [
            "\n"
          ]
        },
        {
          "name": "stdout",
          "output_type": "stream",
          "text": [
            "\n",
            "      Epoch    GPU_mem   box_loss   cls_loss   dfl_loss  Instances       Size\n"
          ]
        },
        {
          "name": "stderr",
          "output_type": "stream",
          "text": [
            "     45/100      2.29G     0.5783      1.289       1.07         38        640: 100%|██████████| 21/21 [00:02<00:00,  9.95it/s]\n",
            "                 Class     Images  Instances      Box(P          R      mAP50  mAP50-95): 100%|██████████| 2/2 [00:00<00:00,  7.33it/s]"
          ]
        },
        {
          "name": "stdout",
          "output_type": "stream",
          "text": [
            "                   all         36         51      0.614      0.733      0.828      0.499\n"
          ]
        },
        {
          "name": "stderr",
          "output_type": "stream",
          "text": [
            "\n"
          ]
        },
        {
          "name": "stdout",
          "output_type": "stream",
          "text": [
            "\n",
            "      Epoch    GPU_mem   box_loss   cls_loss   dfl_loss  Instances       Size\n"
          ]
        },
        {
          "name": "stderr",
          "output_type": "stream",
          "text": [
            "     46/100       2.4G     0.5713       1.26      1.066         24        640: 100%|██████████| 21/21 [00:02<00:00, 10.03it/s]\n",
            "                 Class     Images  Instances      Box(P          R      mAP50  mAP50-95): 100%|██████████| 2/2 [00:00<00:00,  7.44it/s]"
          ]
        },
        {
          "name": "stdout",
          "output_type": "stream",
          "text": [
            "                   all         36         51      0.673       0.69      0.843      0.521\n"
          ]
        },
        {
          "name": "stderr",
          "output_type": "stream",
          "text": [
            "\n"
          ]
        },
        {
          "name": "stdout",
          "output_type": "stream",
          "text": [
            "\n",
            "      Epoch    GPU_mem   box_loss   cls_loss   dfl_loss  Instances       Size\n"
          ]
        },
        {
          "name": "stderr",
          "output_type": "stream",
          "text": [
            "     47/100      2.26G     0.5517      1.287      1.075         19        640: 100%|██████████| 21/21 [00:02<00:00,  9.97it/s]\n",
            "                 Class     Images  Instances      Box(P          R      mAP50  mAP50-95): 100%|██████████| 2/2 [00:00<00:00,  7.49it/s]"
          ]
        },
        {
          "name": "stdout",
          "output_type": "stream",
          "text": [
            "                   all         36         51       0.61      0.615      0.836      0.537\n"
          ]
        },
        {
          "name": "stderr",
          "output_type": "stream",
          "text": [
            "\n"
          ]
        },
        {
          "name": "stdout",
          "output_type": "stream",
          "text": [
            "\n",
            "      Epoch    GPU_mem   box_loss   cls_loss   dfl_loss  Instances       Size\n"
          ]
        },
        {
          "name": "stderr",
          "output_type": "stream",
          "text": [
            "     48/100      2.26G     0.5601      1.288      1.078         25        640: 100%|██████████| 21/21 [00:02<00:00, 10.09it/s]\n",
            "                 Class     Images  Instances      Box(P          R      mAP50  mAP50-95): 100%|██████████| 2/2 [00:00<00:00,  7.44it/s]"
          ]
        },
        {
          "name": "stdout",
          "output_type": "stream",
          "text": [
            "                   all         36         51      0.572      0.581      0.792      0.465\n"
          ]
        },
        {
          "name": "stderr",
          "output_type": "stream",
          "text": [
            "\n"
          ]
        },
        {
          "name": "stdout",
          "output_type": "stream",
          "text": [
            "\n",
            "      Epoch    GPU_mem   box_loss   cls_loss   dfl_loss  Instances       Size\n"
          ]
        },
        {
          "name": "stderr",
          "output_type": "stream",
          "text": [
            "     49/100      2.28G     0.5621      1.223      1.058         45        640: 100%|██████████| 21/21 [00:02<00:00, 10.23it/s]\n",
            "                 Class     Images  Instances      Box(P          R      mAP50  mAP50-95): 100%|██████████| 2/2 [00:00<00:00,  7.75it/s]"
          ]
        },
        {
          "name": "stdout",
          "output_type": "stream",
          "text": [
            "                   all         36         51      0.549      0.785      0.831      0.485\n"
          ]
        },
        {
          "name": "stderr",
          "output_type": "stream",
          "text": [
            "\n"
          ]
        },
        {
          "name": "stdout",
          "output_type": "stream",
          "text": [
            "\n",
            "      Epoch    GPU_mem   box_loss   cls_loss   dfl_loss  Instances       Size\n"
          ]
        },
        {
          "name": "stderr",
          "output_type": "stream",
          "text": [
            "     50/100      2.26G     0.5636      1.256      1.081         17        640: 100%|██████████| 21/21 [00:02<00:00, 10.38it/s]\n",
            "                 Class     Images  Instances      Box(P          R      mAP50  mAP50-95): 100%|██████████| 2/2 [00:00<00:00,  7.46it/s]"
          ]
        },
        {
          "name": "stdout",
          "output_type": "stream",
          "text": [
            "                   all         36         51      0.578      0.742       0.84      0.514\n"
          ]
        },
        {
          "name": "stderr",
          "output_type": "stream",
          "text": [
            "\n"
          ]
        },
        {
          "name": "stdout",
          "output_type": "stream",
          "text": [
            "\n",
            "      Epoch    GPU_mem   box_loss   cls_loss   dfl_loss  Instances       Size\n"
          ]
        },
        {
          "name": "stderr",
          "output_type": "stream",
          "text": [
            "     51/100      2.33G     0.5478      1.213      1.045         35        640: 100%|██████████| 21/21 [00:02<00:00, 10.36it/s]\n",
            "                 Class     Images  Instances      Box(P          R      mAP50  mAP50-95): 100%|██████████| 2/2 [00:00<00:00,  7.69it/s]"
          ]
        },
        {
          "name": "stdout",
          "output_type": "stream",
          "text": [
            "                   all         36         51      0.481      0.814      0.822       0.49\n"
          ]
        },
        {
          "name": "stderr",
          "output_type": "stream",
          "text": [
            "\n"
          ]
        },
        {
          "name": "stdout",
          "output_type": "stream",
          "text": [
            "\n",
            "      Epoch    GPU_mem   box_loss   cls_loss   dfl_loss  Instances       Size\n"
          ]
        },
        {
          "name": "stderr",
          "output_type": "stream",
          "text": [
            "     52/100      2.26G     0.5404      1.179      1.069         37        640: 100%|██████████| 21/21 [00:02<00:00, 10.34it/s]\n",
            "                 Class     Images  Instances      Box(P          R      mAP50  mAP50-95): 100%|██████████| 2/2 [00:00<00:00,  7.66it/s]"
          ]
        },
        {
          "name": "stdout",
          "output_type": "stream",
          "text": [
            "                   all         36         51      0.579      0.681      0.792      0.478\n"
          ]
        },
        {
          "name": "stderr",
          "output_type": "stream",
          "text": [
            "\n"
          ]
        },
        {
          "name": "stdout",
          "output_type": "stream",
          "text": [
            "\n",
            "      Epoch    GPU_mem   box_loss   cls_loss   dfl_loss  Instances       Size\n"
          ]
        },
        {
          "name": "stderr",
          "output_type": "stream",
          "text": [
            "     53/100      2.27G     0.5213      1.165      1.049         35        640: 100%|██████████| 21/21 [00:02<00:00, 10.49it/s]\n",
            "                 Class     Images  Instances      Box(P          R      mAP50  mAP50-95): 100%|██████████| 2/2 [00:00<00:00,  7.87it/s]"
          ]
        },
        {
          "name": "stdout",
          "output_type": "stream",
          "text": [
            "                   all         36         51      0.679      0.578        0.8       0.48\n"
          ]
        },
        {
          "name": "stderr",
          "output_type": "stream",
          "text": [
            "\n"
          ]
        },
        {
          "name": "stdout",
          "output_type": "stream",
          "text": [
            "\n",
            "      Epoch    GPU_mem   box_loss   cls_loss   dfl_loss  Instances       Size\n"
          ]
        },
        {
          "name": "stderr",
          "output_type": "stream",
          "text": [
            "     54/100      2.29G     0.5225      1.157       1.04         24        640: 100%|██████████| 21/21 [00:02<00:00, 10.49it/s]\n",
            "                 Class     Images  Instances      Box(P          R      mAP50  mAP50-95): 100%|██████████| 2/2 [00:00<00:00,  7.72it/s]"
          ]
        },
        {
          "name": "stdout",
          "output_type": "stream",
          "text": [
            "                   all         36         51      0.565      0.652      0.844       0.47\n"
          ]
        },
        {
          "name": "stderr",
          "output_type": "stream",
          "text": [
            "\n"
          ]
        },
        {
          "name": "stdout",
          "output_type": "stream",
          "text": [
            "\n",
            "      Epoch    GPU_mem   box_loss   cls_loss   dfl_loss  Instances       Size\n"
          ]
        },
        {
          "name": "stderr",
          "output_type": "stream",
          "text": [
            "     55/100      2.29G      0.539      1.165      1.063         23        640: 100%|██████████| 21/21 [00:02<00:00, 10.41it/s]\n",
            "                 Class     Images  Instances      Box(P          R      mAP50  mAP50-95): 100%|██████████| 2/2 [00:00<00:00,  8.47it/s]"
          ]
        },
        {
          "name": "stdout",
          "output_type": "stream",
          "text": [
            "                   all         36         51      0.549      0.757      0.836      0.429\n"
          ]
        },
        {
          "name": "stderr",
          "output_type": "stream",
          "text": [
            "\n"
          ]
        },
        {
          "name": "stdout",
          "output_type": "stream",
          "text": [
            "\n",
            "      Epoch    GPU_mem   box_loss   cls_loss   dfl_loss  Instances       Size\n"
          ]
        },
        {
          "name": "stderr",
          "output_type": "stream",
          "text": [
            "     56/100      2.32G     0.5283      1.134      1.043         24        640: 100%|██████████| 21/21 [00:02<00:00,  9.71it/s]\n",
            "                 Class     Images  Instances      Box(P          R      mAP50  mAP50-95): 100%|██████████| 2/2 [00:00<00:00,  7.49it/s]"
          ]
        },
        {
          "name": "stdout",
          "output_type": "stream",
          "text": [
            "                   all         36         51      0.655      0.608      0.834      0.451\n"
          ]
        },
        {
          "name": "stderr",
          "output_type": "stream",
          "text": [
            "\n"
          ]
        },
        {
          "name": "stdout",
          "output_type": "stream",
          "text": [
            "\n",
            "      Epoch    GPU_mem   box_loss   cls_loss   dfl_loss  Instances       Size\n"
          ]
        },
        {
          "name": "stderr",
          "output_type": "stream",
          "text": [
            "     57/100      2.31G     0.4977       1.15      1.041         13        640: 100%|██████████| 21/21 [00:02<00:00,  9.61it/s]\n",
            "                 Class     Images  Instances      Box(P          R      mAP50  mAP50-95): 100%|██████████| 2/2 [00:00<00:00,  6.90it/s]"
          ]
        },
        {
          "name": "stdout",
          "output_type": "stream",
          "text": [
            "                   all         36         51       0.55      0.747      0.811      0.467\n"
          ]
        },
        {
          "name": "stderr",
          "output_type": "stream",
          "text": [
            "\n"
          ]
        },
        {
          "name": "stdout",
          "output_type": "stream",
          "text": [
            "\n",
            "      Epoch    GPU_mem   box_loss   cls_loss   dfl_loss  Instances       Size\n"
          ]
        },
        {
          "name": "stderr",
          "output_type": "stream",
          "text": [
            "     58/100      2.31G     0.5111      1.092       1.03         36        640: 100%|██████████| 21/21 [00:02<00:00,  8.73it/s]\n",
            "                 Class     Images  Instances      Box(P          R      mAP50  mAP50-95): 100%|██████████| 2/2 [00:00<00:00,  7.84it/s]"
          ]
        },
        {
          "name": "stdout",
          "output_type": "stream",
          "text": [
            "                   all         36         51      0.538      0.781      0.823      0.482\n"
          ]
        },
        {
          "name": "stderr",
          "output_type": "stream",
          "text": [
            "\n"
          ]
        },
        {
          "name": "stdout",
          "output_type": "stream",
          "text": [
            "\n",
            "      Epoch    GPU_mem   box_loss   cls_loss   dfl_loss  Instances       Size\n"
          ]
        },
        {
          "name": "stderr",
          "output_type": "stream",
          "text": [
            "     59/100      2.26G     0.5268      1.085      1.033         20        640: 100%|██████████| 21/21 [00:02<00:00,  9.72it/s]\n",
            "                 Class     Images  Instances      Box(P          R      mAP50  mAP50-95): 100%|██████████| 2/2 [00:00<00:00,  8.06it/s]"
          ]
        },
        {
          "name": "stdout",
          "output_type": "stream",
          "text": [
            "                   all         36         51      0.571      0.767      0.848      0.483\n"
          ]
        },
        {
          "name": "stderr",
          "output_type": "stream",
          "text": [
            "\n"
          ]
        },
        {
          "name": "stdout",
          "output_type": "stream",
          "text": [
            "\n",
            "      Epoch    GPU_mem   box_loss   cls_loss   dfl_loss  Instances       Size\n"
          ]
        },
        {
          "name": "stderr",
          "output_type": "stream",
          "text": [
            "     60/100      2.32G     0.5091       1.13       1.03         27        640: 100%|██████████| 21/21 [00:02<00:00, 10.11it/s]\n",
            "                 Class     Images  Instances      Box(P          R      mAP50  mAP50-95): 100%|██████████| 2/2 [00:00<00:00,  7.04it/s]"
          ]
        },
        {
          "name": "stdout",
          "output_type": "stream",
          "text": [
            "                   all         36         51      0.559      0.837      0.864      0.523\n"
          ]
        },
        {
          "name": "stderr",
          "output_type": "stream",
          "text": [
            "\n"
          ]
        },
        {
          "name": "stdout",
          "output_type": "stream",
          "text": [
            "\n",
            "      Epoch    GPU_mem   box_loss   cls_loss   dfl_loss  Instances       Size\n"
          ]
        },
        {
          "name": "stderr",
          "output_type": "stream",
          "text": [
            "     61/100      2.25G     0.5182      1.073      1.038         23        640: 100%|██████████| 21/21 [00:02<00:00,  9.33it/s]\n",
            "                 Class     Images  Instances      Box(P          R      mAP50  mAP50-95): 100%|██████████| 2/2 [00:00<00:00,  7.52it/s]"
          ]
        },
        {
          "name": "stdout",
          "output_type": "stream",
          "text": [
            "                   all         36         51      0.555        0.8      0.813      0.459\n"
          ]
        },
        {
          "name": "stderr",
          "output_type": "stream",
          "text": [
            "\n"
          ]
        },
        {
          "name": "stdout",
          "output_type": "stream",
          "text": [
            "\n",
            "      Epoch    GPU_mem   box_loss   cls_loss   dfl_loss  Instances       Size\n"
          ]
        },
        {
          "name": "stderr",
          "output_type": "stream",
          "text": [
            "     62/100      2.33G     0.5138      1.093      1.038         35        640: 100%|██████████| 21/21 [00:02<00:00,  9.79it/s]\n",
            "                 Class     Images  Instances      Box(P          R      mAP50  mAP50-95): 100%|██████████| 2/2 [00:00<00:00,  8.33it/s]"
          ]
        },
        {
          "name": "stdout",
          "output_type": "stream",
          "text": [
            "                   all         36         51      0.591      0.786      0.847      0.498\n"
          ]
        },
        {
          "name": "stderr",
          "output_type": "stream",
          "text": [
            "\n"
          ]
        },
        {
          "name": "stdout",
          "output_type": "stream",
          "text": [
            "\n",
            "      Epoch    GPU_mem   box_loss   cls_loss   dfl_loss  Instances       Size\n"
          ]
        },
        {
          "name": "stderr",
          "output_type": "stream",
          "text": [
            "     63/100      2.28G      0.504      1.071      1.031         39        640: 100%|██████████| 21/21 [00:02<00:00,  9.77it/s]\n",
            "                 Class     Images  Instances      Box(P          R      mAP50  mAP50-95): 100%|██████████| 2/2 [00:00<00:00,  8.02it/s]"
          ]
        },
        {
          "name": "stdout",
          "output_type": "stream",
          "text": [
            "                   all         36         51      0.608      0.715      0.838      0.475\n"
          ]
        },
        {
          "name": "stderr",
          "output_type": "stream",
          "text": [
            "\n"
          ]
        },
        {
          "name": "stdout",
          "output_type": "stream",
          "text": [
            "\n",
            "      Epoch    GPU_mem   box_loss   cls_loss   dfl_loss  Instances       Size\n"
          ]
        },
        {
          "name": "stderr",
          "output_type": "stream",
          "text": [
            "     64/100       2.3G     0.5104      1.083      1.056         36        640: 100%|██████████| 21/21 [00:02<00:00,  9.79it/s]\n",
            "                 Class     Images  Instances      Box(P          R      mAP50  mAP50-95): 100%|██████████| 2/2 [00:00<00:00,  7.46it/s]"
          ]
        },
        {
          "name": "stdout",
          "output_type": "stream",
          "text": [
            "                   all         36         51      0.584       0.74       0.84      0.479\n"
          ]
        },
        {
          "name": "stderr",
          "output_type": "stream",
          "text": [
            "\n"
          ]
        },
        {
          "name": "stdout",
          "output_type": "stream",
          "text": [
            "\n",
            "      Epoch    GPU_mem   box_loss   cls_loss   dfl_loss  Instances       Size\n"
          ]
        },
        {
          "name": "stderr",
          "output_type": "stream",
          "text": [
            "     65/100      2.39G     0.4948      1.013      1.018         42        640: 100%|██████████| 21/21 [00:02<00:00, 10.00it/s]\n",
            "                 Class     Images  Instances      Box(P          R      mAP50  mAP50-95): 100%|██████████| 2/2 [00:00<00:00,  8.10it/s]"
          ]
        },
        {
          "name": "stdout",
          "output_type": "stream",
          "text": [
            "                   all         36         51      0.686      0.718      0.868      0.501\n"
          ]
        },
        {
          "name": "stderr",
          "output_type": "stream",
          "text": [
            "\n"
          ]
        },
        {
          "name": "stdout",
          "output_type": "stream",
          "text": [
            "\n",
            "      Epoch    GPU_mem   box_loss   cls_loss   dfl_loss  Instances       Size\n"
          ]
        },
        {
          "name": "stderr",
          "output_type": "stream",
          "text": [
            "     66/100      2.28G     0.5099      1.062      1.031         18        640: 100%|██████████| 21/21 [00:02<00:00,  9.98it/s]\n",
            "                 Class     Images  Instances      Box(P          R      mAP50  mAP50-95): 100%|██████████| 2/2 [00:00<00:00,  8.19it/s]"
          ]
        },
        {
          "name": "stdout",
          "output_type": "stream",
          "text": [
            "                   all         36         51      0.619       0.72      0.874      0.514\n"
          ]
        },
        {
          "name": "stderr",
          "output_type": "stream",
          "text": [
            "\n"
          ]
        },
        {
          "name": "stdout",
          "output_type": "stream",
          "text": [
            "\n",
            "      Epoch    GPU_mem   box_loss   cls_loss   dfl_loss  Instances       Size\n"
          ]
        },
        {
          "name": "stderr",
          "output_type": "stream",
          "text": [
            "     67/100      2.31G     0.4901      1.021       1.03         23        640: 100%|██████████| 21/21 [00:02<00:00,  9.86it/s]\n",
            "                 Class     Images  Instances      Box(P          R      mAP50  mAP50-95): 100%|██████████| 2/2 [00:00<00:00,  7.02it/s]"
          ]
        },
        {
          "name": "stdout",
          "output_type": "stream",
          "text": [
            "                   all         36         51      0.549      0.792      0.872      0.518\n"
          ]
        },
        {
          "name": "stderr",
          "output_type": "stream",
          "text": [
            "\n"
          ]
        },
        {
          "name": "stdout",
          "output_type": "stream",
          "text": [
            "\n",
            "      Epoch    GPU_mem   box_loss   cls_loss   dfl_loss  Instances       Size\n"
          ]
        },
        {
          "name": "stderr",
          "output_type": "stream",
          "text": [
            "     68/100       2.3G     0.4884      1.063      1.016         30        640: 100%|██████████| 21/21 [00:02<00:00,  9.92it/s]\n",
            "                 Class     Images  Instances      Box(P          R      mAP50  mAP50-95): 100%|██████████| 2/2 [00:00<00:00,  7.58it/s]"
          ]
        },
        {
          "name": "stdout",
          "output_type": "stream",
          "text": [
            "                   all         36         51      0.625       0.76      0.851      0.488\n"
          ]
        },
        {
          "name": "stderr",
          "output_type": "stream",
          "text": [
            "\n"
          ]
        },
        {
          "name": "stdout",
          "output_type": "stream",
          "text": [
            "\n",
            "      Epoch    GPU_mem   box_loss   cls_loss   dfl_loss  Instances       Size\n"
          ]
        },
        {
          "name": "stderr",
          "output_type": "stream",
          "text": [
            "     69/100       2.3G     0.4768       1.01     0.9995         50        640: 100%|██████████| 21/21 [00:02<00:00,  9.74it/s]\n",
            "                 Class     Images  Instances      Box(P          R      mAP50  mAP50-95): 100%|██████████| 2/2 [00:00<00:00,  7.27it/s]"
          ]
        },
        {
          "name": "stdout",
          "output_type": "stream",
          "text": [
            "                   all         36         51      0.577      0.822      0.866      0.495\n"
          ]
        },
        {
          "name": "stderr",
          "output_type": "stream",
          "text": [
            "\n"
          ]
        },
        {
          "name": "stdout",
          "output_type": "stream",
          "text": [
            "\n",
            "      Epoch    GPU_mem   box_loss   cls_loss   dfl_loss  Instances       Size\n"
          ]
        },
        {
          "name": "stderr",
          "output_type": "stream",
          "text": [
            "     70/100      2.26G     0.4734      1.041      1.022         14        640: 100%|██████████| 21/21 [00:02<00:00, 10.17it/s]\n",
            "                 Class     Images  Instances      Box(P          R      mAP50  mAP50-95): 100%|██████████| 2/2 [00:00<00:00,  8.47it/s]"
          ]
        },
        {
          "name": "stdout",
          "output_type": "stream",
          "text": [
            "                   all         36         51      0.588      0.805      0.865      0.511\n"
          ]
        },
        {
          "name": "stderr",
          "output_type": "stream",
          "text": [
            "\n"
          ]
        },
        {
          "name": "stdout",
          "output_type": "stream",
          "text": [
            "\n",
            "      Epoch    GPU_mem   box_loss   cls_loss   dfl_loss  Instances       Size\n"
          ]
        },
        {
          "name": "stderr",
          "output_type": "stream",
          "text": [
            "     71/100       2.4G     0.4828      1.003      1.004         28        640: 100%|██████████| 21/21 [00:02<00:00, 10.08it/s]\n",
            "                 Class     Images  Instances      Box(P          R      mAP50  mAP50-95): 100%|██████████| 2/2 [00:00<00:00,  8.30it/s]"
          ]
        },
        {
          "name": "stdout",
          "output_type": "stream",
          "text": [
            "                   all         36         51      0.558      0.801      0.868      0.521\n"
          ]
        },
        {
          "name": "stderr",
          "output_type": "stream",
          "text": [
            "\n"
          ]
        },
        {
          "name": "stdout",
          "output_type": "stream",
          "text": [
            "\n",
            "      Epoch    GPU_mem   box_loss   cls_loss   dfl_loss  Instances       Size\n"
          ]
        },
        {
          "name": "stderr",
          "output_type": "stream",
          "text": [
            "     72/100      2.26G     0.4673     0.9893      1.019         25        640: 100%|██████████| 21/21 [00:02<00:00, 10.05it/s]\n",
            "                 Class     Images  Instances      Box(P          R      mAP50  mAP50-95): 100%|██████████| 2/2 [00:00<00:00,  8.27it/s]"
          ]
        },
        {
          "name": "stdout",
          "output_type": "stream",
          "text": [
            "                   all         36         51      0.644      0.765      0.865      0.533\n"
          ]
        },
        {
          "name": "stderr",
          "output_type": "stream",
          "text": [
            "\n"
          ]
        },
        {
          "name": "stdout",
          "output_type": "stream",
          "text": [
            "\n",
            "      Epoch    GPU_mem   box_loss   cls_loss   dfl_loss  Instances       Size\n"
          ]
        },
        {
          "name": "stderr",
          "output_type": "stream",
          "text": [
            "     73/100      2.27G     0.4504     0.9694     0.9916         31        640: 100%|██████████| 21/21 [00:02<00:00, 10.29it/s]\n",
            "                 Class     Images  Instances      Box(P          R      mAP50  mAP50-95): 100%|██████████| 2/2 [00:00<00:00,  8.16it/s]"
          ]
        },
        {
          "name": "stdout",
          "output_type": "stream",
          "text": [
            "                   all         36         51      0.609      0.799      0.859      0.538\n"
          ]
        },
        {
          "name": "stderr",
          "output_type": "stream",
          "text": [
            "\n"
          ]
        },
        {
          "name": "stdout",
          "output_type": "stream",
          "text": [
            "\n",
            "      Epoch    GPU_mem   box_loss   cls_loss   dfl_loss  Instances       Size\n"
          ]
        },
        {
          "name": "stderr",
          "output_type": "stream",
          "text": [
            "     74/100      2.26G     0.4987     0.9662      1.014         27        640: 100%|██████████| 21/21 [00:02<00:00, 10.23it/s]\n",
            "                 Class     Images  Instances      Box(P          R      mAP50  mAP50-95): 100%|██████████| 2/2 [00:00<00:00,  7.81it/s]"
          ]
        },
        {
          "name": "stdout",
          "output_type": "stream",
          "text": [
            "                   all         36         51        0.6      0.807       0.86      0.532\n"
          ]
        },
        {
          "name": "stderr",
          "output_type": "stream",
          "text": [
            "\n"
          ]
        },
        {
          "name": "stdout",
          "output_type": "stream",
          "text": [
            "\n",
            "      Epoch    GPU_mem   box_loss   cls_loss   dfl_loss  Instances       Size\n"
          ]
        },
        {
          "name": "stderr",
          "output_type": "stream",
          "text": [
            "     75/100      2.28G     0.4841     0.9788      1.023         30        640: 100%|██████████| 21/21 [00:02<00:00, 10.35it/s]\n",
            "                 Class     Images  Instances      Box(P          R      mAP50  mAP50-95): 100%|██████████| 2/2 [00:00<00:00,  7.72it/s]"
          ]
        },
        {
          "name": "stdout",
          "output_type": "stream",
          "text": [
            "                   all         36         51      0.606      0.807      0.861      0.529\n"
          ]
        },
        {
          "name": "stderr",
          "output_type": "stream",
          "text": [
            "\n"
          ]
        },
        {
          "name": "stdout",
          "output_type": "stream",
          "text": [
            "\n",
            "      Epoch    GPU_mem   box_loss   cls_loss   dfl_loss  Instances       Size\n"
          ]
        },
        {
          "name": "stderr",
          "output_type": "stream",
          "text": [
            "     76/100      2.33G     0.4608     0.9601      1.004         28        640: 100%|██████████| 21/21 [00:02<00:00,  9.80it/s]\n",
            "                 Class     Images  Instances      Box(P          R      mAP50  mAP50-95): 100%|██████████| 2/2 [00:00<00:00,  8.10it/s]"
          ]
        },
        {
          "name": "stdout",
          "output_type": "stream",
          "text": [
            "                   all         36         51      0.671       0.72      0.866      0.541\n"
          ]
        },
        {
          "name": "stderr",
          "output_type": "stream",
          "text": [
            "\n"
          ]
        },
        {
          "name": "stdout",
          "output_type": "stream",
          "text": [
            "\n",
            "      Epoch    GPU_mem   box_loss   cls_loss   dfl_loss  Instances       Size\n"
          ]
        },
        {
          "name": "stderr",
          "output_type": "stream",
          "text": [
            "     77/100      2.29G     0.5011     0.9747      1.027         15        640: 100%|██████████| 21/21 [00:02<00:00, 10.13it/s]\n",
            "                 Class     Images  Instances      Box(P          R      mAP50  mAP50-95): 100%|██████████| 2/2 [00:00<00:00,  8.13it/s]"
          ]
        },
        {
          "name": "stdout",
          "output_type": "stream",
          "text": [
            "                   all         36         51      0.654      0.723      0.853      0.527\n"
          ]
        },
        {
          "name": "stderr",
          "output_type": "stream",
          "text": [
            "\n"
          ]
        },
        {
          "name": "stdout",
          "output_type": "stream",
          "text": [
            "\n",
            "      Epoch    GPU_mem   box_loss   cls_loss   dfl_loss  Instances       Size\n"
          ]
        },
        {
          "name": "stderr",
          "output_type": "stream",
          "text": [
            "     78/100      2.32G      0.502     0.9584      1.024         32        640: 100%|██████████| 21/21 [00:02<00:00, 10.04it/s]\n",
            "                 Class     Images  Instances      Box(P          R      mAP50  mAP50-95): 100%|██████████| 2/2 [00:00<00:00,  8.26it/s]"
          ]
        },
        {
          "name": "stdout",
          "output_type": "stream",
          "text": [
            "                   all         36         51      0.638      0.748      0.863       0.51\n"
          ]
        },
        {
          "name": "stderr",
          "output_type": "stream",
          "text": [
            "\n"
          ]
        },
        {
          "name": "stdout",
          "output_type": "stream",
          "text": [
            "\n",
            "      Epoch    GPU_mem   box_loss   cls_loss   dfl_loss  Instances       Size\n"
          ]
        },
        {
          "name": "stderr",
          "output_type": "stream",
          "text": [
            "     79/100      2.29G     0.4912     0.9745       1.02         39        640: 100%|██████████| 21/21 [00:02<00:00,  9.93it/s]\n",
            "                 Class     Images  Instances      Box(P          R      mAP50  mAP50-95): 100%|██████████| 2/2 [00:00<00:00,  8.27it/s]"
          ]
        },
        {
          "name": "stdout",
          "output_type": "stream",
          "text": [
            "                   all         36         51      0.667      0.742       0.86      0.519\n"
          ]
        },
        {
          "name": "stderr",
          "output_type": "stream",
          "text": [
            "\n"
          ]
        },
        {
          "name": "stdout",
          "output_type": "stream",
          "text": [
            "\n",
            "      Epoch    GPU_mem   box_loss   cls_loss   dfl_loss  Instances       Size\n"
          ]
        },
        {
          "name": "stderr",
          "output_type": "stream",
          "text": [
            "     80/100       2.3G      0.481     0.9549      1.001         23        640: 100%|██████████| 21/21 [00:02<00:00,  9.74it/s]\n",
            "                 Class     Images  Instances      Box(P          R      mAP50  mAP50-95): 100%|██████████| 2/2 [00:00<00:00,  7.97it/s]"
          ]
        },
        {
          "name": "stdout",
          "output_type": "stream",
          "text": [
            "                   all         36         51      0.639      0.772      0.857      0.534\n"
          ]
        },
        {
          "name": "stderr",
          "output_type": "stream",
          "text": [
            "\n"
          ]
        },
        {
          "name": "stdout",
          "output_type": "stream",
          "text": [
            "\n",
            "      Epoch    GPU_mem   box_loss   cls_loss   dfl_loss  Instances       Size\n"
          ]
        },
        {
          "name": "stderr",
          "output_type": "stream",
          "text": [
            "     81/100      2.31G     0.4728     0.9704     0.9901         11        640: 100%|██████████| 21/21 [00:02<00:00, 10.33it/s]\n",
            "                 Class     Images  Instances      Box(P          R      mAP50  mAP50-95): 100%|██████████| 2/2 [00:00<00:00,  8.44it/s]"
          ]
        },
        {
          "name": "stdout",
          "output_type": "stream",
          "text": [
            "                   all         36         51      0.613      0.798      0.871      0.551\n"
          ]
        },
        {
          "name": "stderr",
          "output_type": "stream",
          "text": [
            "\n"
          ]
        },
        {
          "name": "stdout",
          "output_type": "stream",
          "text": [
            "\n",
            "      Epoch    GPU_mem   box_loss   cls_loss   dfl_loss  Instances       Size\n"
          ]
        },
        {
          "name": "stderr",
          "output_type": "stream",
          "text": [
            "     82/100      2.32G     0.4636     0.9639      0.995         19        640: 100%|██████████| 21/21 [00:02<00:00, 10.25it/s]\n",
            "                 Class     Images  Instances      Box(P          R      mAP50  mAP50-95): 100%|██████████| 2/2 [00:00<00:00,  8.30it/s]"
          ]
        },
        {
          "name": "stdout",
          "output_type": "stream",
          "text": [
            "                   all         36         51      0.563       0.84      0.872       0.55\n"
          ]
        },
        {
          "name": "stderr",
          "output_type": "stream",
          "text": [
            "\n"
          ]
        },
        {
          "name": "stdout",
          "output_type": "stream",
          "text": [
            "\n",
            "      Epoch    GPU_mem   box_loss   cls_loss   dfl_loss  Instances       Size\n"
          ]
        },
        {
          "name": "stderr",
          "output_type": "stream",
          "text": [
            "     83/100      2.32G     0.4585     0.9313       1.01         19        640: 100%|██████████| 21/21 [00:02<00:00, 10.14it/s]\n",
            "                 Class     Images  Instances      Box(P          R      mAP50  mAP50-95): 100%|██████████| 2/2 [00:00<00:00,  8.44it/s]"
          ]
        },
        {
          "name": "stdout",
          "output_type": "stream",
          "text": [
            "                   all         36         51      0.695      0.747      0.871       0.54\n"
          ]
        },
        {
          "name": "stderr",
          "output_type": "stream",
          "text": [
            "\n"
          ]
        },
        {
          "name": "stdout",
          "output_type": "stream",
          "text": [
            "\n",
            "      Epoch    GPU_mem   box_loss   cls_loss   dfl_loss  Instances       Size\n"
          ]
        },
        {
          "name": "stderr",
          "output_type": "stream",
          "text": [
            "     84/100      2.35G     0.4789      1.004       1.02         12        640: 100%|██████████| 21/21 [00:02<00:00,  9.87it/s]\n",
            "                 Class     Images  Instances      Box(P          R      mAP50  mAP50-95): 100%|██████████| 2/2 [00:00<00:00,  7.60it/s]"
          ]
        },
        {
          "name": "stdout",
          "output_type": "stream",
          "text": [
            "                   all         36         51      0.732      0.727      0.874      0.544\n"
          ]
        },
        {
          "name": "stderr",
          "output_type": "stream",
          "text": [
            "\n"
          ]
        },
        {
          "name": "stdout",
          "output_type": "stream",
          "text": [
            "\n",
            "      Epoch    GPU_mem   box_loss   cls_loss   dfl_loss  Instances       Size\n"
          ]
        },
        {
          "name": "stderr",
          "output_type": "stream",
          "text": [
            "     85/100      2.29G     0.4697      0.959      1.006         29        640: 100%|██████████| 21/21 [00:02<00:00, 10.07it/s]\n",
            "                 Class     Images  Instances      Box(P          R      mAP50  mAP50-95): 100%|██████████| 2/2 [00:00<00:00,  8.13it/s]"
          ]
        },
        {
          "name": "stdout",
          "output_type": "stream",
          "text": [
            "                   all         36         51      0.667      0.763      0.874      0.553\n"
          ]
        },
        {
          "name": "stderr",
          "output_type": "stream",
          "text": [
            "\n"
          ]
        },
        {
          "name": "stdout",
          "output_type": "stream",
          "text": [
            "\n",
            "      Epoch    GPU_mem   box_loss   cls_loss   dfl_loss  Instances       Size\n"
          ]
        },
        {
          "name": "stderr",
          "output_type": "stream",
          "text": [
            "     86/100       2.3G     0.4568     0.9237     0.9951         30        640: 100%|██████████| 21/21 [00:02<00:00,  9.96it/s]\n",
            "                 Class     Images  Instances      Box(P          R      mAP50  mAP50-95): 100%|██████████| 2/2 [00:00<00:00,  8.20it/s]"
          ]
        },
        {
          "name": "stdout",
          "output_type": "stream",
          "text": [
            "                   all         36         51      0.774      0.695      0.874      0.554\n"
          ]
        },
        {
          "name": "stderr",
          "output_type": "stream",
          "text": [
            "\n"
          ]
        },
        {
          "name": "stdout",
          "output_type": "stream",
          "text": [
            "\n",
            "      Epoch    GPU_mem   box_loss   cls_loss   dfl_loss  Instances       Size\n"
          ]
        },
        {
          "name": "stderr",
          "output_type": "stream",
          "text": [
            "     87/100      2.31G     0.4515     0.9249      1.004         31        640: 100%|██████████| 21/21 [00:02<00:00, 10.22it/s]\n",
            "                 Class     Images  Instances      Box(P          R      mAP50  mAP50-95): 100%|██████████| 2/2 [00:00<00:00,  7.94it/s]"
          ]
        },
        {
          "name": "stdout",
          "output_type": "stream",
          "text": [
            "                   all         36         51      0.725      0.706      0.875      0.545\n"
          ]
        },
        {
          "name": "stderr",
          "output_type": "stream",
          "text": [
            "\n"
          ]
        },
        {
          "name": "stdout",
          "output_type": "stream",
          "text": [
            "\n",
            "      Epoch    GPU_mem   box_loss   cls_loss   dfl_loss  Instances       Size\n"
          ]
        },
        {
          "name": "stderr",
          "output_type": "stream",
          "text": [
            "     88/100      2.28G       0.46     0.9336      1.014         23        640: 100%|██████████| 21/21 [00:02<00:00, 10.49it/s]\n",
            "                 Class     Images  Instances      Box(P          R      mAP50  mAP50-95): 100%|██████████| 2/2 [00:00<00:00,  8.51it/s]"
          ]
        },
        {
          "name": "stdout",
          "output_type": "stream",
          "text": [
            "                   all         36         51      0.663      0.774      0.862      0.526\n"
          ]
        },
        {
          "name": "stderr",
          "output_type": "stream",
          "text": [
            "\n"
          ]
        },
        {
          "name": "stdout",
          "output_type": "stream",
          "text": [
            "\n",
            "      Epoch    GPU_mem   box_loss   cls_loss   dfl_loss  Instances       Size\n"
          ]
        },
        {
          "name": "stderr",
          "output_type": "stream",
          "text": [
            "     89/100      2.27G     0.4468     0.9479      1.002         31        640: 100%|██████████| 21/21 [00:02<00:00, 10.35it/s]\n",
            "                 Class     Images  Instances      Box(P          R      mAP50  mAP50-95): 100%|██████████| 2/2 [00:00<00:00,  8.55it/s]"
          ]
        },
        {
          "name": "stdout",
          "output_type": "stream",
          "text": [
            "                   all         36         51      0.695      0.719       0.85      0.526\n"
          ]
        },
        {
          "name": "stderr",
          "output_type": "stream",
          "text": [
            "\n"
          ]
        },
        {
          "name": "stdout",
          "output_type": "stream",
          "text": [
            "\n",
            "      Epoch    GPU_mem   box_loss   cls_loss   dfl_loss  Instances       Size\n"
          ]
        },
        {
          "name": "stderr",
          "output_type": "stream",
          "text": [
            "     90/100      2.29G     0.4327     0.9334     0.9938         17        640: 100%|██████████| 21/21 [00:02<00:00, 10.33it/s]\n",
            "                 Class     Images  Instances      Box(P          R      mAP50  mAP50-95): 100%|██████████| 2/2 [00:00<00:00,  8.33it/s]"
          ]
        },
        {
          "name": "stdout",
          "output_type": "stream",
          "text": [
            "                   all         36         51      0.674      0.719       0.85      0.521\n"
          ]
        },
        {
          "name": "stderr",
          "output_type": "stream",
          "text": [
            "\n"
          ]
        },
        {
          "name": "stdout",
          "output_type": "stream",
          "text": [
            "Closing dataloader mosaic\n",
            "\n",
            "      Epoch    GPU_mem   box_loss   cls_loss   dfl_loss  Instances       Size\n"
          ]
        },
        {
          "name": "stderr",
          "output_type": "stream",
          "text": [
            "     91/100       2.3G      0.421      0.867     0.9799         16        640: 100%|██████████| 21/21 [00:02<00:00,  8.35it/s]\n",
            "                 Class     Images  Instances      Box(P          R      mAP50  mAP50-95): 100%|██████████| 2/2 [00:00<00:00,  7.91it/s]"
          ]
        },
        {
          "name": "stdout",
          "output_type": "stream",
          "text": [
            "                   all         36         51      0.702      0.741       0.87      0.538\n"
          ]
        },
        {
          "name": "stderr",
          "output_type": "stream",
          "text": [
            "\n"
          ]
        },
        {
          "name": "stdout",
          "output_type": "stream",
          "text": [
            "\n",
            "      Epoch    GPU_mem   box_loss   cls_loss   dfl_loss  Instances       Size\n"
          ]
        },
        {
          "name": "stderr",
          "output_type": "stream",
          "text": [
            "     92/100      2.24G     0.4004     0.9019     0.9754          7        640: 100%|██████████| 21/21 [00:02<00:00,  9.51it/s]\n",
            "                 Class     Images  Instances      Box(P          R      mAP50  mAP50-95): 100%|██████████| 2/2 [00:00<00:00,  8.47it/s]"
          ]
        },
        {
          "name": "stdout",
          "output_type": "stream",
          "text": [
            "                   all         36         51      0.667      0.713      0.868      0.498\n"
          ]
        },
        {
          "name": "stderr",
          "output_type": "stream",
          "text": [
            "\n"
          ]
        },
        {
          "name": "stdout",
          "output_type": "stream",
          "text": [
            "\n",
            "      Epoch    GPU_mem   box_loss   cls_loss   dfl_loss  Instances       Size\n"
          ]
        },
        {
          "name": "stderr",
          "output_type": "stream",
          "text": [
            "     93/100      2.25G     0.4095     0.8862     0.9933         17        640: 100%|██████████| 21/21 [00:02<00:00,  9.88it/s]\n",
            "                 Class     Images  Instances      Box(P          R      mAP50  mAP50-95): 100%|██████████| 2/2 [00:00<00:00,  8.70it/s]"
          ]
        },
        {
          "name": "stdout",
          "output_type": "stream",
          "text": [
            "                   all         36         51      0.702      0.707      0.873      0.506\n"
          ]
        },
        {
          "name": "stderr",
          "output_type": "stream",
          "text": [
            "\n"
          ]
        },
        {
          "name": "stdout",
          "output_type": "stream",
          "text": [
            "\n",
            "      Epoch    GPU_mem   box_loss   cls_loss   dfl_loss  Instances       Size\n"
          ]
        },
        {
          "name": "stderr",
          "output_type": "stream",
          "text": [
            "     94/100      2.24G     0.3873     0.8328      0.981         13        640: 100%|██████████| 21/21 [00:01<00:00, 10.80it/s]\n",
            "                 Class     Images  Instances      Box(P          R      mAP50  mAP50-95): 100%|██████████| 2/2 [00:00<00:00,  8.10it/s]"
          ]
        },
        {
          "name": "stdout",
          "output_type": "stream",
          "text": [
            "                   all         36         51       0.72      0.734       0.87      0.523\n"
          ]
        },
        {
          "name": "stderr",
          "output_type": "stream",
          "text": [
            "\n"
          ]
        },
        {
          "name": "stdout",
          "output_type": "stream",
          "text": [
            "\n",
            "      Epoch    GPU_mem   box_loss   cls_loss   dfl_loss  Instances       Size\n"
          ]
        },
        {
          "name": "stderr",
          "output_type": "stream",
          "text": [
            "     95/100      2.26G     0.4151     0.8337     0.9965          6        640: 100%|██████████| 21/21 [00:02<00:00, 10.21it/s]\n",
            "                 Class     Images  Instances      Box(P          R      mAP50  mAP50-95): 100%|██████████| 2/2 [00:00<00:00,  6.79it/s]"
          ]
        },
        {
          "name": "stdout",
          "output_type": "stream",
          "text": [
            "                   all         36         51      0.599      0.838      0.859      0.519\n"
          ]
        },
        {
          "name": "stderr",
          "output_type": "stream",
          "text": [
            "\n"
          ]
        },
        {
          "name": "stdout",
          "output_type": "stream",
          "text": [
            "\n",
            "      Epoch    GPU_mem   box_loss   cls_loss   dfl_loss  Instances       Size\n"
          ]
        },
        {
          "name": "stderr",
          "output_type": "stream",
          "text": [
            "     96/100      2.23G     0.4282     0.9057     0.9984         16        640: 100%|██████████| 21/21 [00:02<00:00,  9.87it/s]\n",
            "                 Class     Images  Instances      Box(P          R      mAP50  mAP50-95): 100%|██████████| 2/2 [00:00<00:00,  7.63it/s]"
          ]
        },
        {
          "name": "stdout",
          "output_type": "stream",
          "text": [
            "                   all         36         51      0.616      0.761      0.855      0.516\n"
          ]
        },
        {
          "name": "stderr",
          "output_type": "stream",
          "text": [
            "\n"
          ]
        },
        {
          "name": "stdout",
          "output_type": "stream",
          "text": [
            "\n",
            "      Epoch    GPU_mem   box_loss   cls_loss   dfl_loss  Instances       Size\n"
          ]
        },
        {
          "name": "stderr",
          "output_type": "stream",
          "text": [
            "     97/100      2.29G     0.3867     0.7752     0.9626         16        640: 100%|██████████| 21/21 [00:02<00:00,  9.28it/s]\n",
            "                 Class     Images  Instances      Box(P          R      mAP50  mAP50-95): 100%|██████████| 2/2 [00:00<00:00,  7.97it/s]"
          ]
        },
        {
          "name": "stdout",
          "output_type": "stream",
          "text": [
            "                   all         36         51       0.65      0.761      0.855      0.521\n"
          ]
        },
        {
          "name": "stderr",
          "output_type": "stream",
          "text": [
            "\n"
          ]
        },
        {
          "name": "stdout",
          "output_type": "stream",
          "text": [
            "\n",
            "      Epoch    GPU_mem   box_loss   cls_loss   dfl_loss  Instances       Size\n"
          ]
        },
        {
          "name": "stderr",
          "output_type": "stream",
          "text": [
            "     98/100      2.24G     0.3892     0.7969     0.9611         16        640: 100%|██████████| 21/21 [00:02<00:00, 10.40it/s]\n",
            "                 Class     Images  Instances      Box(P          R      mAP50  mAP50-95): 100%|██████████| 2/2 [00:00<00:00,  7.93it/s]"
          ]
        },
        {
          "name": "stdout",
          "output_type": "stream",
          "text": [
            "                   all         36         51      0.679      0.761      0.855       0.52\n"
          ]
        },
        {
          "name": "stderr",
          "output_type": "stream",
          "text": [
            "\n"
          ]
        },
        {
          "name": "stdout",
          "output_type": "stream",
          "text": [
            "\n",
            "      Epoch    GPU_mem   box_loss   cls_loss   dfl_loss  Instances       Size\n"
          ]
        },
        {
          "name": "stderr",
          "output_type": "stream",
          "text": [
            "     99/100      2.26G     0.3937     0.7809     0.9736         17        640: 100%|██████████| 21/21 [00:02<00:00,  9.79it/s]\n",
            "                 Class     Images  Instances      Box(P          R      mAP50  mAP50-95): 100%|██████████| 2/2 [00:00<00:00,  7.58it/s]"
          ]
        },
        {
          "name": "stdout",
          "output_type": "stream",
          "text": [
            "                   all         36         51      0.674      0.733      0.856      0.513\n"
          ]
        },
        {
          "name": "stderr",
          "output_type": "stream",
          "text": [
            "\n"
          ]
        },
        {
          "name": "stdout",
          "output_type": "stream",
          "text": [
            "\n",
            "      Epoch    GPU_mem   box_loss   cls_loss   dfl_loss  Instances       Size\n"
          ]
        },
        {
          "name": "stderr",
          "output_type": "stream",
          "text": [
            "    100/100      2.24G     0.4026     0.7899     0.9771          7        640: 100%|██████████| 21/21 [00:02<00:00,  9.63it/s]\n",
            "                 Class     Images  Instances      Box(P          R      mAP50  mAP50-95): 100%|██████████| 2/2 [00:00<00:00,  5.85it/s]"
          ]
        },
        {
          "name": "stdout",
          "output_type": "stream",
          "text": [
            "                   all         36         51      0.665      0.761      0.855      0.522\n"
          ]
        },
        {
          "name": "stderr",
          "output_type": "stream",
          "text": [
            "\n"
          ]
        },
        {
          "name": "stdout",
          "output_type": "stream",
          "text": [
            "\n",
            "100 epochs completed in 0.093 hours.\n",
            "Optimizer stripped from runs\\detect\\train4\\weights\\last.pt, 6.3MB\n",
            "Optimizer stripped from runs\\detect\\train4\\weights\\best.pt, 6.3MB\n",
            "\n",
            "Validating runs\\detect\\train4\\weights\\best.pt...\n",
            "Ultralytics YOLOv8.2.87  Python-3.12.2 torch-2.4.1+cu124 CUDA:0 (NVIDIA GeForce RTX 3080 Ti, 12288MiB)\n",
            "Model summary (fused): 168 layers, 3,012,668 parameters, 0 gradients, 8.1 GFLOPs\n"
          ]
        },
        {
          "name": "stderr",
          "output_type": "stream",
          "text": [
            "                 Class     Images  Instances      Box(P          R      mAP50  mAP50-95): 100%|██████████| 2/2 [00:00<00:00,  5.87it/s]\n"
          ]
        },
        {
          "name": "stdout",
          "output_type": "stream",
          "text": [
            "                   all         36         51      0.774      0.695      0.874      0.555\n",
            "   AgrotisSegetumDenis          1          1          1          0      0.995      0.796\n",
            "  AleurodicusDispersus          1          5      0.623        0.4      0.525      0.349\n",
            "      AmrascaBiguttula          1          1      0.744          1      0.995      0.597\n",
            "    AmritodusAtkinsoni          1          1      0.711          1      0.995      0.697\n",
            " AnoplolepisGracilipes          1          1      0.803          1      0.995      0.298\n",
            "   AphisCraccivoraKoch          1          1          1          0      0.124     0.0249\n",
            "  BatoceraRufomaculata          1          1      0.704          1      0.995      0.597\n",
            "         BemisiaTabaci          1          6          1      0.993      0.995      0.599\n",
            "   BrontispaLongissima          1          1          1          0      0.995      0.796\n",
            "FrankliniellaOccidentalis          1          1          1          0      0.497      0.348\n",
            "  GynaikothripsFicorum          1          1      0.808          1      0.995      0.398\n",
            "   HelicoverpaArmigera          1          1          1          0      0.995      0.697\n",
            "     HelopeltisAntonii          1          1      0.733          1      0.995      0.796\n",
            "    HeteropsyllaCubana          1          1      0.538          1      0.995      0.597\n",
            "       HomonaCoffearia          1          1      0.734          1      0.995      0.796\n",
            " IiriomyzaHuidobrensis          1          1      0.706          1      0.995      0.796\n",
            "IschnaspisLongirostris          1          6      0.457          1      0.811      0.367\n",
            "        NezaraViridula          1          1      0.797          1      0.995      0.597\n",
            "    OligonychusCoffeae          1          1          1          0      0.142     0.0805\n",
            " OligonychusMangiferus          1          1       0.31          1      0.332      0.332\n",
            "OxycarenusHyalinipennis          1          2          1       0.63      0.995      0.648\n",
            "    ParabemisiaMyricae          1          1          0          0      0.166      0.133\n",
            "          Pectinophora          1          1      0.851          1      0.995      0.647\n",
            "PectinophoraGossypiella          1          1          1          0      0.995      0.796\n",
            "  PhyllotretaStriolata          1          1      0.843          1      0.995      0.409\n",
            "    PlutellaXylostella          1          1      0.693          1      0.995      0.796\n",
            "PseudococcusLongispinus          1          1      0.695          1      0.995      0.398\n",
            "   ScirpophagaInnotata          1          1          1          0      0.995      0.697\n",
            "    ScrobipalpaHeliopa          1          1      0.876          1      0.995      0.497\n",
            "    SolenopsisGeminate          1          1      0.714          1      0.995      0.697\n",
            "    StromatiumBarbatum          1          1      0.744          1      0.995      0.398\n",
            "        SusicaSinensis          1          1          1          0      0.995      0.796\n",
            "  TarophagusProserpina          1          1      0.746          1      0.995      0.796\n",
            "         ThripsSimplex          1          1      0.934          1      0.995      0.517\n",
            "          ThripsTabaci          1          1      0.671          1      0.995      0.597\n",
            " leptocybeInvasaFisher          1          1      0.426          1      0.995      0.597\n",
            "Speed: 0.4ms preprocess, 1.9ms inference, 0.0ms loss, 1.4ms postprocess per image\n",
            "Results saved to \u001b[1mruns\\detect\\train4\u001b[0m\n"
          ]
        }
      ],
      "source": [
        "from ultralytics import YOLO\n",
        "\n",
        "# Load the YOLOv8 model\n",
        "model = YOLO('yolov8n.pt')\n",
        "\n",
        "# Train the model without plotting\n",
        "results = model.train(\n",
        "    data=r'C:/Users/Gumpun/Desktop/Project/DetectionInsect/ThaiInsectv8/data.yaml',  # Dataset path\n",
        "    epochs=100,    # Number of epochs\n",
        "    imgsz=640,     # Image size\n",
        "    batch=16,      # Batch size\n",
        "    visualize=False  # Disable visualization during training\n",
        ")\n"
      ]
    },
    {
      "cell_type": "code",
      "execution_count": 8,
      "metadata": {
        "colab": {
          "base_uri": "https://localhost:8080/"
        },
        "id": "sFfWNOqogNQb",
        "outputId": "59b1d3fb-8204-4677-e4c0-18731ea928ea"
      },
      "outputs": [
        {
          "name": "stdout",
          "output_type": "stream",
          "text": [
            "\n",
            "image 1/5 C:\\Users\\Gumpun\\Desktop\\Project\\DetectionInsect\\TestInsect\\TestImage\\Amritodus Atkinsoni.jpg: 448x640 1 AmritodusAtkinsoni, 19.0ms\n",
            "image 2/5 C:\\Users\\Gumpun\\Desktop\\Project\\DetectionInsect\\TestInsect\\TestImage\\Phyllotreta Striolata.jpeg: 480x640 1 PhyllotretaStriolata, 14.0ms\n",
            "image 3/5 C:\\Users\\Gumpun\\Desktop\\Project\\DetectionInsect\\TestInsect\\TestImage\\Scirpophaga Innotata.jpeg: 480x640 1 ScirpophagaInnotata, 8.0ms\n",
            "image 4/5 C:\\Users\\Gumpun\\Desktop\\Project\\DetectionInsect\\TestInsect\\TestImage\\Stromatium Barbatum.jpg: 448x640 1 StromatiumBarbatum, 9.0ms\n",
            "image 5/5 C:\\Users\\Gumpun\\Desktop\\Project\\DetectionInsect\\TestInsect\\TestImage\\Thrips Simplex.jpg: 480x640 1 ThripsSimplex, 9.0ms\n",
            "Speed: 2.6ms preprocess, 11.8ms inference, 1.6ms postprocess per image at shape (1, 3, 480, 640)\n",
            "Results saved to \u001b[1mruns\\detect\\predict\u001b[0m\n"
          ]
        },
        {
          "data": {
            "text/plain": [
              "[ultralytics.engine.results.Results object with attributes:\n",
              " \n",
              " boxes: ultralytics.engine.results.Boxes object\n",
              " keypoints: None\n",
              " masks: None\n",
              " names: {0: 'AgrotisSegetumDenis', 1: 'AleurodicusDispersus', 2: 'AmrascaBiguttula', 3: 'AmritodusAtkinsoni', 4: 'AnoplolepisGracilipes', 5: 'AphisCraccivoraKoch', 6: 'BatoceraRufomaculata', 7: 'BemisiaTabaci', 8: 'BrontispaLongissima', 9: 'FrankliniellaOccidentalis', 10: 'GynaikothripsFicorum', 11: 'HelicoverpaArmigera', 12: 'HelopeltisAntonii', 13: 'HeteropsyllaCubana', 14: 'HomonaCoffearia', 15: 'IiriomyzaHuidobrensis', 16: 'IschnaspisLongirostris', 17: 'NezaraViridula', 18: 'OligonychusCoffeae', 19: 'OligonychusMangiferus', 20: 'OxycarenusHyalinipennis', 21: 'ParabemisiaMyricae', 22: 'Pectinophora', 23: 'PectinophoraGossypiella', 24: 'PhyllotretaStriolata', 25: 'PlutellaXylostella', 26: 'PseudococcusLongispinus', 27: 'ScirpophagaInnotata', 28: 'ScrobipalpaHeliopa', 29: 'SolenopsisGeminate', 30: 'StromatiumBarbatum', 31: 'SusicaSinensis', 32: 'TarophagusProserpina', 33: 'ThripsSimplex', 34: 'ThripsTabaci', 35: 'leptocybeInvasaFisher'}\n",
              " obb: None\n",
              " orig_img: array([[[ 40, 153,  73],\n",
              "         [ 37, 150,  70],\n",
              "         [ 35, 150,  71],\n",
              "         ...,\n",
              "         [ 12, 145,  65],\n",
              "         [ 12, 145,  65],\n",
              "         [ 12, 145,  65]],\n",
              " \n",
              "        [[ 39, 152,  72],\n",
              "         [ 36, 151,  72],\n",
              "         [ 37, 152,  73],\n",
              "         ...,\n",
              "         [ 14, 145,  65],\n",
              "         [ 14, 145,  65],\n",
              "         [ 14, 145,  65]],\n",
              " \n",
              "        [[ 37, 152,  73],\n",
              "         [ 38, 153,  74],\n",
              "         [ 38, 153,  74],\n",
              "         ...,\n",
              "         [ 15, 146,  66],\n",
              "         [ 15, 146,  66],\n",
              "         [ 15, 146,  66]],\n",
              " \n",
              "        ...,\n",
              " \n",
              "        [[  0, 143,  51],\n",
              "         [  3, 146,  54],\n",
              "         [  0, 147,  55],\n",
              "         ...,\n",
              "         [ 13, 152,  61],\n",
              "         [ 13, 152,  61],\n",
              "         [ 35, 174,  83]],\n",
              " \n",
              "        [[  3, 146,  54],\n",
              "         [  2, 145,  53],\n",
              "         [  0, 146,  54],\n",
              "         ...,\n",
              "         [ 21, 160,  69],\n",
              "         [ 18, 157,  66],\n",
              "         [ 33, 172,  81]],\n",
              " \n",
              "        [[  3, 146,  53],\n",
              "         [  0, 142,  49],\n",
              "         [  0, 146,  52],\n",
              "         ...,\n",
              "         [ 29, 166,  75],\n",
              "         [ 18, 155,  64],\n",
              "         [ 17, 154,  63]]], dtype=uint8)\n",
              " orig_shape: (600, 900)\n",
              " path: 'C:\\\\Users\\\\Gumpun\\\\Desktop\\\\Project\\\\DetectionInsect\\\\TestInsect\\\\TestImage\\\\Amritodus Atkinsoni.jpg'\n",
              " probs: None\n",
              " save_dir: 'runs\\\\detect\\\\predict'\n",
              " speed: {'preprocess': 3.9987564086914062, 'inference': 18.999099731445312, 'postprocess': 2.000570297241211},\n",
              " ultralytics.engine.results.Results object with attributes:\n",
              " \n",
              " boxes: ultralytics.engine.results.Boxes object\n",
              " keypoints: None\n",
              " masks: None\n",
              " names: {0: 'AgrotisSegetumDenis', 1: 'AleurodicusDispersus', 2: 'AmrascaBiguttula', 3: 'AmritodusAtkinsoni', 4: 'AnoplolepisGracilipes', 5: 'AphisCraccivoraKoch', 6: 'BatoceraRufomaculata', 7: 'BemisiaTabaci', 8: 'BrontispaLongissima', 9: 'FrankliniellaOccidentalis', 10: 'GynaikothripsFicorum', 11: 'HelicoverpaArmigera', 12: 'HelopeltisAntonii', 13: 'HeteropsyllaCubana', 14: 'HomonaCoffearia', 15: 'IiriomyzaHuidobrensis', 16: 'IschnaspisLongirostris', 17: 'NezaraViridula', 18: 'OligonychusCoffeae', 19: 'OligonychusMangiferus', 20: 'OxycarenusHyalinipennis', 21: 'ParabemisiaMyricae', 22: 'Pectinophora', 23: 'PectinophoraGossypiella', 24: 'PhyllotretaStriolata', 25: 'PlutellaXylostella', 26: 'PseudococcusLongispinus', 27: 'ScirpophagaInnotata', 28: 'ScrobipalpaHeliopa', 29: 'SolenopsisGeminate', 30: 'StromatiumBarbatum', 31: 'SusicaSinensis', 32: 'TarophagusProserpina', 33: 'ThripsSimplex', 34: 'ThripsTabaci', 35: 'leptocybeInvasaFisher'}\n",
              " obb: None\n",
              " orig_img: array([[[ 43, 152, 113],\n",
              "         [ 39, 149, 107],\n",
              "         [ 30, 142, 100],\n",
              "         ...,\n",
              "         [111, 182, 155],\n",
              "         [109, 181, 151],\n",
              "         [110, 182, 152]],\n",
              " \n",
              "        [[ 45, 154, 116],\n",
              "         [ 41, 150, 111],\n",
              "         [ 35, 147, 105],\n",
              "         ...,\n",
              "         [112, 184, 154],\n",
              "         [113, 183, 153],\n",
              "         [110, 182, 152]],\n",
              " \n",
              "        [[ 48, 154, 118],\n",
              "         [ 42, 150, 114],\n",
              "         [ 35, 146, 108],\n",
              "         ...,\n",
              "         [113, 183, 153],\n",
              "         [116, 183, 154],\n",
              "         [113, 183, 152]],\n",
              " \n",
              "        ...,\n",
              " \n",
              "        [[ 72, 139,  94],\n",
              "         [ 96, 161, 116],\n",
              "         [107, 170, 126],\n",
              "         ...,\n",
              "         [ 96, 166, 135],\n",
              "         [ 96, 166, 135],\n",
              "         [ 93, 164, 131]],\n",
              " \n",
              "        [[ 68, 138,  91],\n",
              "         [ 72, 142,  95],\n",
              "         [ 79, 146, 101],\n",
              "         ...,\n",
              "         [ 98, 166, 135],\n",
              "         [ 97, 165, 134],\n",
              "         [ 97, 165, 134]],\n",
              " \n",
              "        [[ 60, 133,  83],\n",
              "         [ 61, 134,  84],\n",
              "         [ 63, 130,  85],\n",
              "         ...,\n",
              "         [100, 167, 138],\n",
              "         [ 99, 166, 135],\n",
              "         [100, 167, 136]]], dtype=uint8)\n",
              " orig_shape: (750, 1000)\n",
              " path: 'C:\\\\Users\\\\Gumpun\\\\Desktop\\\\Project\\\\DetectionInsect\\\\TestInsect\\\\TestImage\\\\Phyllotreta Striolata.jpeg'\n",
              " probs: None\n",
              " save_dir: 'runs\\\\detect\\\\predict'\n",
              " speed: {'preprocess': 2.0003318786621094, 'inference': 14.000177383422852, 'postprocess': 1.9989013671875},\n",
              " ultralytics.engine.results.Results object with attributes:\n",
              " \n",
              " boxes: ultralytics.engine.results.Boxes object\n",
              " keypoints: None\n",
              " masks: None\n",
              " names: {0: 'AgrotisSegetumDenis', 1: 'AleurodicusDispersus', 2: 'AmrascaBiguttula', 3: 'AmritodusAtkinsoni', 4: 'AnoplolepisGracilipes', 5: 'AphisCraccivoraKoch', 6: 'BatoceraRufomaculata', 7: 'BemisiaTabaci', 8: 'BrontispaLongissima', 9: 'FrankliniellaOccidentalis', 10: 'GynaikothripsFicorum', 11: 'HelicoverpaArmigera', 12: 'HelopeltisAntonii', 13: 'HeteropsyllaCubana', 14: 'HomonaCoffearia', 15: 'IiriomyzaHuidobrensis', 16: 'IschnaspisLongirostris', 17: 'NezaraViridula', 18: 'OligonychusCoffeae', 19: 'OligonychusMangiferus', 20: 'OxycarenusHyalinipennis', 21: 'ParabemisiaMyricae', 22: 'Pectinophora', 23: 'PectinophoraGossypiella', 24: 'PhyllotretaStriolata', 25: 'PlutellaXylostella', 26: 'PseudococcusLongispinus', 27: 'ScirpophagaInnotata', 28: 'ScrobipalpaHeliopa', 29: 'SolenopsisGeminate', 30: 'StromatiumBarbatum', 31: 'SusicaSinensis', 32: 'TarophagusProserpina', 33: 'ThripsSimplex', 34: 'ThripsTabaci', 35: 'leptocybeInvasaFisher'}\n",
              " obb: None\n",
              " orig_img: array([[[130, 128, 118],\n",
              "         [123, 121, 111],\n",
              "         [117, 115, 105],\n",
              "         ...,\n",
              "         [102,  96,  91],\n",
              "         [103,  97,  92],\n",
              "         [103,  97,  92]],\n",
              " \n",
              "        [[121, 119, 109],\n",
              "         [117, 115, 105],\n",
              "         [115, 113, 103],\n",
              "         ...,\n",
              "         [101,  95,  90],\n",
              "         [102,  96,  91],\n",
              "         [102,  96,  91]],\n",
              " \n",
              "        [[118, 112, 105],\n",
              "         [117, 111, 104],\n",
              "         [118, 112, 105],\n",
              "         ...,\n",
              "         [ 99,  93,  88],\n",
              "         [101,  95,  90],\n",
              "         [101,  95,  90]],\n",
              " \n",
              "        ...,\n",
              " \n",
              "        [[161, 149, 139],\n",
              "         [162, 150, 140],\n",
              "         [163, 151, 141],\n",
              "         ...,\n",
              "         [161, 152, 142],\n",
              "         [162, 152, 142],\n",
              "         [162, 152, 142]],\n",
              " \n",
              "        [[157, 145, 135],\n",
              "         [159, 147, 137],\n",
              "         [161, 149, 139],\n",
              "         ...,\n",
              "         [161, 152, 142],\n",
              "         [162, 152, 142],\n",
              "         [162, 152, 142]],\n",
              " \n",
              "        [[153, 143, 133],\n",
              "         [154, 144, 134],\n",
              "         [157, 147, 137],\n",
              "         ...,\n",
              "         [161, 152, 142],\n",
              "         [161, 152, 142],\n",
              "         [161, 152, 142]]], dtype=uint8)\n",
              " orig_shape: (1951, 2602)\n",
              " path: 'C:\\\\Users\\\\Gumpun\\\\Desktop\\\\Project\\\\DetectionInsect\\\\TestInsect\\\\TestImage\\\\Scirpophaga Innotata.jpeg'\n",
              " probs: None\n",
              " save_dir: 'runs\\\\detect\\\\predict'\n",
              " speed: {'preprocess': 1.9986629486083984, 'inference': 8.000850677490234, 'postprocess': 0.9999275207519531},\n",
              " ultralytics.engine.results.Results object with attributes:\n",
              " \n",
              " boxes: ultralytics.engine.results.Boxes object\n",
              " keypoints: None\n",
              " masks: None\n",
              " names: {0: 'AgrotisSegetumDenis', 1: 'AleurodicusDispersus', 2: 'AmrascaBiguttula', 3: 'AmritodusAtkinsoni', 4: 'AnoplolepisGracilipes', 5: 'AphisCraccivoraKoch', 6: 'BatoceraRufomaculata', 7: 'BemisiaTabaci', 8: 'BrontispaLongissima', 9: 'FrankliniellaOccidentalis', 10: 'GynaikothripsFicorum', 11: 'HelicoverpaArmigera', 12: 'HelopeltisAntonii', 13: 'HeteropsyllaCubana', 14: 'HomonaCoffearia', 15: 'IiriomyzaHuidobrensis', 16: 'IschnaspisLongirostris', 17: 'NezaraViridula', 18: 'OligonychusCoffeae', 19: 'OligonychusMangiferus', 20: 'OxycarenusHyalinipennis', 21: 'ParabemisiaMyricae', 22: 'Pectinophora', 23: 'PectinophoraGossypiella', 24: 'PhyllotretaStriolata', 25: 'PlutellaXylostella', 26: 'PseudococcusLongispinus', 27: 'ScirpophagaInnotata', 28: 'ScrobipalpaHeliopa', 29: 'SolenopsisGeminate', 30: 'StromatiumBarbatum', 31: 'SusicaSinensis', 32: 'TarophagusProserpina', 33: 'ThripsSimplex', 34: 'ThripsTabaci', 35: 'leptocybeInvasaFisher'}\n",
              " obb: None\n",
              " orig_img: array([[[128, 133, 136],\n",
              "         [121, 128, 131],\n",
              "         [119, 128, 131],\n",
              "         ...,\n",
              "         [161, 168, 165],\n",
              "         [162, 167, 165],\n",
              "         [162, 168, 163]],\n",
              " \n",
              "        [[128, 135, 138],\n",
              "         [124, 131, 134],\n",
              "         [121, 130, 133],\n",
              "         ...,\n",
              "         [163, 168, 166],\n",
              "         [161, 166, 164],\n",
              "         [161, 166, 164]],\n",
              " \n",
              "        [[128, 134, 139],\n",
              "         [124, 133, 137],\n",
              "         [121, 132, 136],\n",
              "         ...,\n",
              "         [164, 169, 167],\n",
              "         [163, 168, 166],\n",
              "         [162, 169, 166]],\n",
              " \n",
              "        ...,\n",
              " \n",
              "        [[173, 182, 179],\n",
              "         [174, 183, 180],\n",
              "         [173, 181, 180],\n",
              "         ...,\n",
              "         [171, 179, 178],\n",
              "         [173, 181, 180],\n",
              "         [173, 181, 180]],\n",
              " \n",
              "        [[172, 181, 178],\n",
              "         [173, 182, 179],\n",
              "         [175, 181, 180],\n",
              "         ...,\n",
              "         [171, 179, 178],\n",
              "         [171, 179, 178],\n",
              "         [170, 178, 177]],\n",
              " \n",
              "        [[175, 184, 181],\n",
              "         [174, 183, 180],\n",
              "         [175, 181, 180],\n",
              "         ...,\n",
              "         [170, 178, 177],\n",
              "         [173, 181, 180],\n",
              "         [171, 179, 178]]], dtype=uint8)\n",
              " orig_shape: (1080, 1631)\n",
              " path: 'C:\\\\Users\\\\Gumpun\\\\Desktop\\\\Project\\\\DetectionInsect\\\\TestInsect\\\\TestImage\\\\Stromatium Barbatum.jpg'\n",
              " probs: None\n",
              " save_dir: 'runs\\\\detect\\\\predict'\n",
              " speed: {'preprocess': 2.001047134399414, 'inference': 8.996248245239258, 'postprocess': 1.0001659393310547},\n",
              " ultralytics.engine.results.Results object with attributes:\n",
              " \n",
              " boxes: ultralytics.engine.results.Boxes object\n",
              " keypoints: None\n",
              " masks: None\n",
              " names: {0: 'AgrotisSegetumDenis', 1: 'AleurodicusDispersus', 2: 'AmrascaBiguttula', 3: 'AmritodusAtkinsoni', 4: 'AnoplolepisGracilipes', 5: 'AphisCraccivoraKoch', 6: 'BatoceraRufomaculata', 7: 'BemisiaTabaci', 8: 'BrontispaLongissima', 9: 'FrankliniellaOccidentalis', 10: 'GynaikothripsFicorum', 11: 'HelicoverpaArmigera', 12: 'HelopeltisAntonii', 13: 'HeteropsyllaCubana', 14: 'HomonaCoffearia', 15: 'IiriomyzaHuidobrensis', 16: 'IschnaspisLongirostris', 17: 'NezaraViridula', 18: 'OligonychusCoffeae', 19: 'OligonychusMangiferus', 20: 'OxycarenusHyalinipennis', 21: 'ParabemisiaMyricae', 22: 'Pectinophora', 23: 'PectinophoraGossypiella', 24: 'PhyllotretaStriolata', 25: 'PlutellaXylostella', 26: 'PseudococcusLongispinus', 27: 'ScirpophagaInnotata', 28: 'ScrobipalpaHeliopa', 29: 'SolenopsisGeminate', 30: 'StromatiumBarbatum', 31: 'SusicaSinensis', 32: 'TarophagusProserpina', 33: 'ThripsSimplex', 34: 'ThripsTabaci', 35: 'leptocybeInvasaFisher'}\n",
              " obb: None\n",
              " orig_img: array([[[128, 152, 170],\n",
              "         [128, 152, 170],\n",
              "         [127, 151, 169],\n",
              "         ...,\n",
              "         [126, 150, 168],\n",
              "         [125, 149, 167],\n",
              "         [125, 149, 167]],\n",
              " \n",
              "        [[127, 151, 169],\n",
              "         [127, 151, 169],\n",
              "         [127, 151, 169],\n",
              "         ...,\n",
              "         [126, 150, 168],\n",
              "         [126, 150, 168],\n",
              "         [125, 149, 167]],\n",
              " \n",
              "        [[126, 150, 168],\n",
              "         [126, 150, 168],\n",
              "         [127, 151, 169],\n",
              "         ...,\n",
              "         [126, 150, 168],\n",
              "         [126, 150, 168],\n",
              "         [125, 149, 167]],\n",
              " \n",
              "        ...,\n",
              " \n",
              "        [[170, 186, 199],\n",
              "         [163, 178, 194],\n",
              "         [156, 172, 188],\n",
              "         ...,\n",
              "         [  1, 246, 255],\n",
              "         [  2, 247, 255],\n",
              "         [  3, 248, 255]],\n",
              " \n",
              "        [[177, 193, 206],\n",
              "         [170, 185, 201],\n",
              "         [162, 178, 194],\n",
              "         ...,\n",
              "         [  0, 245, 255],\n",
              "         [  1, 246, 255],\n",
              "         [  2, 247, 255]],\n",
              " \n",
              "        [[177, 193, 206],\n",
              "         [170, 185, 201],\n",
              "         [164, 180, 196],\n",
              "         ...,\n",
              "         [  0, 244, 254],\n",
              "         [  0, 245, 255],\n",
              "         [  0, 245, 255]]], dtype=uint8)\n",
              " orig_shape: (343, 480)\n",
              " path: 'C:\\\\Users\\\\Gumpun\\\\Desktop\\\\Project\\\\DetectionInsect\\\\TestInsect\\\\TestImage\\\\Thrips Simplex.jpg'\n",
              " probs: None\n",
              " save_dir: 'runs\\\\detect\\\\predict'\n",
              " speed: {'preprocess': 2.9404163360595703, 'inference': 9.005546569824219, 'postprocess': 1.9657611846923828}]"
            ]
          },
          "execution_count": 8,
          "metadata": {},
          "output_type": "execute_result"
        }
      ],
      "source": [
        "model = YOLO('yolov8n.pt')\n",
        "model = YOLO('C:/Users/Gumpun/Desktop/Project/DetectionInsect/runs/detect/train4/weights/best.pt')\n",
        "\n",
        "model.predict('C:/Users/Gumpun/Desktop/Project/DetectionInsect/TestInsect/TestImage', save=True, imgsz=640, conf=0.5)"
      ]
    },
    {
      "cell_type": "code",
      "execution_count": null,
      "metadata": {
        "id": "tItvTJgphLNE"
      },
      "outputs": [],
      "source": [
        "import shutil\n",
        "\n",
        "shutil.rmtree('/content/yolov5/runs/detect/exp2')"
      ]
    }
  ],
  "metadata": {
    "accelerator": "GPU",
    "colab": {
      "gpuType": "T4",
      "provenance": []
    },
    "kernelspec": {
      "display_name": "Python 3",
      "name": "python3"
    },
    "language_info": {
      "codemirror_mode": {
        "name": "ipython",
        "version": 3
      },
      "file_extension": ".py",
      "mimetype": "text/x-python",
      "name": "python",
      "nbconvert_exporter": "python",
      "pygments_lexer": "ipython3",
      "version": "3.12.2"
    }
  },
  "nbformat": 4,
  "nbformat_minor": 0
}
